{
 "cells": [
  {
   "cell_type": "code",
   "execution_count": 1,
   "metadata": {
    "scrolled": true
   },
   "outputs": [
    {
     "data": {
      "text/html": [
       "<div>\n",
       "<style scoped>\n",
       "    .dataframe tbody tr th:only-of-type {\n",
       "        vertical-align: middle;\n",
       "    }\n",
       "\n",
       "    .dataframe tbody tr th {\n",
       "        vertical-align: top;\n",
       "    }\n",
       "\n",
       "    .dataframe thead th {\n",
       "        text-align: right;\n",
       "    }\n",
       "</style>\n",
       "<table border=\"1\" class=\"dataframe\">\n",
       "  <thead>\n",
       "    <tr style=\"text-align: right;\">\n",
       "      <th></th>\n",
       "      <th>SYS_RECID</th>\n",
       "      <th>YEAR</th>\n",
       "      <th>QTR</th>\n",
       "      <th>FAC_REGION</th>\n",
       "      <th>ETHNICITY</th>\n",
       "      <th>RACE</th>\n",
       "      <th>SEX</th>\n",
       "      <th>AGE</th>\n",
       "      <th>WEEKDAY</th>\n",
       "      <th>ZIPCODE</th>\n",
       "      <th>PTSTATE</th>\n",
       "      <th>PTCOUNTRY</th>\n",
       "      <th>ADMSRC</th>\n",
       "      <th>HR_ARRIVAL</th>\n",
       "      <th>EDHR_DISCH</th>\n",
       "      <th>PT_STATUS</th>\n",
       "      <th>PAYER</th>\n",
       "      <th>REASON_CDE</th>\n",
       "      <th>ATTEN_PHYN</th>\n",
       "    </tr>\n",
       "  </thead>\n",
       "  <tbody>\n",
       "    <tr>\n",
       "      <th>0</th>\n",
       "      <td>100140850</td>\n",
       "      <td>2018</td>\n",
       "      <td>1</td>\n",
       "      <td>11</td>\n",
       "      <td>E2</td>\n",
       "      <td>3</td>\n",
       "      <td>F</td>\n",
       "      <td>39</td>\n",
       "      <td>2</td>\n",
       "      <td>33168</td>\n",
       "      <td>FL</td>\n",
       "      <td>US</td>\n",
       "      <td>01</td>\n",
       "      <td>14</td>\n",
       "      <td>16</td>\n",
       "      <td>01</td>\n",
       "      <td>H</td>\n",
       "      <td>S50.371A</td>\n",
       "      <td>1639495245</td>\n",
       "    </tr>\n",
       "    <tr>\n",
       "      <th>1</th>\n",
       "      <td>100140851</td>\n",
       "      <td>2018</td>\n",
       "      <td>1</td>\n",
       "      <td>11</td>\n",
       "      <td>E2</td>\n",
       "      <td>5</td>\n",
       "      <td>M</td>\n",
       "      <td>89</td>\n",
       "      <td>2</td>\n",
       "      <td>33154</td>\n",
       "      <td>FL</td>\n",
       "      <td>US</td>\n",
       "      <td>01</td>\n",
       "      <td>11</td>\n",
       "      <td>14</td>\n",
       "      <td>01</td>\n",
       "      <td>B</td>\n",
       "      <td>T83.022A</td>\n",
       "      <td>1639495245</td>\n",
       "    </tr>\n",
       "    <tr>\n",
       "      <th>2</th>\n",
       "      <td>100140852</td>\n",
       "      <td>2018</td>\n",
       "      <td>1</td>\n",
       "      <td>11</td>\n",
       "      <td>E2</td>\n",
       "      <td>3</td>\n",
       "      <td>M</td>\n",
       "      <td>17</td>\n",
       "      <td>2</td>\n",
       "      <td>33147</td>\n",
       "      <td>FL</td>\n",
       "      <td>US</td>\n",
       "      <td>01</td>\n",
       "      <td>13</td>\n",
       "      <td>13</td>\n",
       "      <td>01</td>\n",
       "      <td>D</td>\n",
       "      <td>R09.81</td>\n",
       "      <td>1639495245</td>\n",
       "    </tr>\n",
       "    <tr>\n",
       "      <th>3</th>\n",
       "      <td>100140853</td>\n",
       "      <td>2018</td>\n",
       "      <td>1</td>\n",
       "      <td>11</td>\n",
       "      <td>E2</td>\n",
       "      <td>3</td>\n",
       "      <td>F</td>\n",
       "      <td>40</td>\n",
       "      <td>2</td>\n",
       "      <td>33147</td>\n",
       "      <td>FL</td>\n",
       "      <td>US</td>\n",
       "      <td>01</td>\n",
       "      <td>10</td>\n",
       "      <td>13</td>\n",
       "      <td>01</td>\n",
       "      <td>D</td>\n",
       "      <td>M25.511</td>\n",
       "      <td>1639495245</td>\n",
       "    </tr>\n",
       "    <tr>\n",
       "      <th>4</th>\n",
       "      <td>100140854</td>\n",
       "      <td>2018</td>\n",
       "      <td>1</td>\n",
       "      <td>11</td>\n",
       "      <td>E2</td>\n",
       "      <td>3</td>\n",
       "      <td>F</td>\n",
       "      <td>42</td>\n",
       "      <td>2</td>\n",
       "      <td>33142</td>\n",
       "      <td>FL</td>\n",
       "      <td>US</td>\n",
       "      <td>01</td>\n",
       "      <td>13</td>\n",
       "      <td>14</td>\n",
       "      <td>01</td>\n",
       "      <td>D</td>\n",
       "      <td>T30.0</td>\n",
       "      <td>1639495245</td>\n",
       "    </tr>\n",
       "  </tbody>\n",
       "</table>\n",
       "</div>"
      ],
      "text/plain": [
       "   SYS_RECID  YEAR QTR FAC_REGION ETHNICITY RACE SEX AGE WEEKDAY ZIPCODE  \\\n",
       "0  100140850  2018   1         11        E2    3   F  39       2   33168   \n",
       "1  100140851  2018   1         11        E2    5   M  89       2   33154   \n",
       "2  100140852  2018   1         11        E2    3   M  17       2   33147   \n",
       "3  100140853  2018   1         11        E2    3   F  40       2   33147   \n",
       "4  100140854  2018   1         11        E2    3   F  42       2   33142   \n",
       "\n",
       "  PTSTATE PTCOUNTRY ADMSRC HR_ARRIVAL EDHR_DISCH PT_STATUS PAYER REASON_CDE  \\\n",
       "0      FL        US     01         14         16        01     H   S50.371A   \n",
       "1      FL        US     01         11         14        01     B   T83.022A   \n",
       "2      FL        US     01         13         13        01     D     R09.81   \n",
       "3      FL        US     01         10         13        01     D    M25.511   \n",
       "4      FL        US     01         13         14        01     D      T30.0   \n",
       "\n",
       "   ATTEN_PHYN  \n",
       "0  1639495245  \n",
       "1  1639495245  \n",
       "2  1639495245  \n",
       "3  1639495245  \n",
       "4  1639495245  "
      ]
     },
     "execution_count": 1,
     "metadata": {},
     "output_type": "execute_result"
    }
   ],
   "source": [
    "import pandas as pd\n",
    "import numpy as np\n",
    "import glob\n",
    "import math\n",
    "import matplotlib.pyplot as plt\n",
    "import seaborn as sns\n",
    "\n",
    "df = pd.concat([pd.read_csv(f , usecols=['SYS_RECID','ZIPCODE','YEAR','QTR','FAC_REGION','ETHNICITY','RACE','SEX','AGE','WEEKDAY','PTSTATE','PTCOUNTRY','ADMSRC','HR_ARRIVAL','EDHR_DISCH','PT_STATUS','PAYER','REASON_CDE','ATTEN_PHYN'],\n",
    "                            dtype= \"category\") for f in glob.glob('/Users/EricJC/Documents/Data/*.csv')], ignore_index = True, sort=False)\n",
    "df.head()\n",
    "\n"
   ]
  },
  {
   "cell_type": "code",
   "execution_count": 2,
   "metadata": {},
   "outputs": [],
   "source": [
    "#These are the opioid codes that we are most interested in. We will filter the [REASON_CDE] column by these specific codes\n",
    "def is_opioid_dx(opioid_dx):\n",
    "    if opioid_dx in ['F11.10','F11.120','F11.121',\n",
    "'F11.122','F11.129','F11.14','F11.150','F11.151','F11.159','F11.181','F11.182','F11.188',\n",
    "'F11.19','F11.20','F11.220','F11.221','F11.222','F11.229','F11.23','F11.24','F11.250',\n",
    "'F11.251','F11.259','F11.281','F11.282','F11.288','F11.29','F11.90','F11.920','F11.921',\n",
    "'F11.922','F11.929','F11.93','F11.94','F11.950','F11.951','F11.959','F11.981','F11.982',\n",
    "'F11.988','F11.99','T40.0X1A','T40.0X1D','T40.0X1S','T40.0X4A','T40.0X4D','T40.0X4S',\n",
    "'T40.0X5A','T40.0X5D','T40.0X5S','T40.1X1A','T40.1X1D','T40.1X1S','T40.1X4A','T40.1X4D',\n",
    "'T40.1X4S','T40.2X1A','T40.2X1D','T40.2X1S','T40.2X4A','T40.2X4D','T40.2X4S','T40.2X5A',\n",
    "'T40.2X5D','T40.2X5S','T40.3X1A','T40.3X1D','T40.3X1S','T40.3X4A','T40.3X4D','T40.3X4S',\n",
    "'T40.3X5A','T40.3X5D','T40.3X5S','T40.4X1A','T40.4X1D','T40.4X1S','T40.4X4A','T40.4X4D',\n",
    "'T40.4X4S','T40.4X5A','T40.4X5D','T40.4X5S','T40.601A','T40.601D','T40.601S','T40.604A',\n",
    "'T40.604D','T40.604S','T40.605A','T40.605D','T40.605S','T40.691A','T40.691D','T40.691S',\n",
    "'T40.694A','T40.694D','T40.694S','T40.695A','T40.695D','T40.695S','T40.0X2A','T40.0X2D',\n",
    "'T40.0X2S','T40.0X3A','T40.0X3D','T40.0X3S','T40.1X2A','T40.1X2D','T40.1X2S','T40.1X3A',\n",
    "'T40.1X3D','T40.1X3S','T40.2X2A','T40.2X2D','T40.2X2S','T40.2X3A','T40.2X3D','T40.2X3S',\n",
    "'T40.3X2A','T40.3X2D','T40.3X2S','T40.3X3A','T40.3X3D','T40.3X3S','T40.4X2A','T40.4X2D',\n",
    "'T40.4X2S','T40.4X3A','T40.4X3D','T40.4X3S','T40.602A','T40.602D','T40.602S','T40.603A',\n",
    "'T40.603D','T40.603S','T40.692A','T40.692D','T40.692S','T40.693A','T40.693D','T40.693S']:\n",
    "        return 1\n",
    "    else:\n",
    "        return 0\n",
    "df['REASON_CDE_01'] = df['REASON_CDE'].apply(is_opioid_dx).astype('category')\n",
    "\n",
    "def is_night(arrtime):\n",
    "    arrtime_int = int(arrtime)\n",
    "    if ((arrtime_int >= 0) & (arrtime_int < 8)):\n",
    "        return 1\n",
    "    elif ((arrtime_int >= 20) & (arrtime_int < 23)):\n",
    "        return 1\n",
    "    else:\n",
    "        return 0\n",
    "df['HR_ARRIVAL_01'] = df['HR_ARRIVAL'].apply(is_night).astype('category')\n",
    "\n",
    "df['AGE'] = df['AGE'].astype(int)\n",
    "def roundup(x, n=10):\n",
    "    res = math.ceil(x/n)*n\n",
    "    if (x%n < n/2)and (x%n>0):\n",
    "        res-=n\n",
    "    return res\n",
    "\n",
    "num = df['AGE']\n",
    "df['AGES'] = [roundup(n) for n in num]\n",
    "df['AGES'] = df['AGES'].astype('category')\n",
    "\n",
    "\n",
    "    "
   ]
  },
  {
   "cell_type": "code",
   "execution_count": 3,
   "metadata": {},
   "outputs": [],
   "source": [
    "df_cat = df.select_dtypes(include=['category']).copy()\n",
    "df_cat['FAC_REGION'] = df_cat['FAC_REGION'].cat.codes\n",
    "df_cat['ETHNICITY'] = df_cat['ETHNICITY'].cat.codes\n",
    "df_cat['RACE'] = df_cat['RACE'].cat.codes\n",
    "df_cat['SEX'] = df_cat['SEX'].cat.codes\n",
    "df_cat['WEEKDAY'] = df_cat['WEEKDAY'].cat.codes\n",
    "df_cat['EDHR_DISCH'] = df_cat['EDHR_DISCH'].cat.codes\n",
    "df_cat['PT_STATUS'] = df_cat['PT_STATUS'].cat.codes\n",
    "df_cat['PAYER'] = df_cat['PAYER'].cat.codes"
   ]
  },
  {
   "cell_type": "code",
   "execution_count": null,
   "metadata": {},
   "outputs": [],
   "source": []
  },
  {
   "cell_type": "markdown",
   "metadata": {},
   "source": [
    "## Boxplots of Ages of Patients Grouped by Sex\n",
    "Below are 2 boxplots showing the distribution of ages of the patients presenting to the emergency departments grouped by sex. The data included values that would be considered outliers by this plot. Patients who are:   \n",
    "    Age 0 = 0 to 28 days  \n",
    "    Age 777 = 29 to 364 days (considered an outlier)  \n",
    "    Age 888 = 100 years and older (considered an outlier)  \n",
    "    Age 999 = Unknown (considered an outlier)  "
   ]
  },
  {
   "cell_type": "code",
   "execution_count": 4,
   "metadata": {},
   "outputs": [
    {
     "data": {
      "image/png": "[encoded data removed]",
      "text/plain": [
       "<Figure size 360x432 with 1 Axes>"
      ]
     },
     "metadata": {
      "needs_background": "light"
     },
     "output_type": "display_data"
    }
   ],
   "source": [
    "age_boxplot = df.boxplot('AGE','SEX', rot=30, figsize=(5,6), showfliers=False)"
   ]
  },
  {
   "cell_type": "code",
   "execution_count": 5,
   "metadata": {},
   "outputs": [
    {
     "data": {
      "image/png": "[encoded data removed]",
      "text/plain": [
       "<Figure size 648x432 with 1 Axes>"
      ]
     },
     "metadata": {
      "needs_background": "light"
     },
     "output_type": "display_data"
    }
   ],
   "source": [
    "df['HR_ARRIVAL'] = df['HR_ARRIVAL'].astype(int)\n",
    "time_payer_boxplot = df.boxplot('HR_ARRIVAL','PAYER', rot=45, figsize=(9,6), showfliers=False)"
   ]
  },
  {
   "cell_type": "code",
   "execution_count": 6,
   "metadata": {},
   "outputs": [
    {
     "data": {
      "image/png": "[encoded data removed]",
      "text/plain": [
       "<Figure size 648x432 with 1 Axes>"
      ]
     },
     "metadata": {
      "needs_background": "light"
     },
     "output_type": "display_data"
    }
   ],
   "source": [
    "time_admsrc_boxplot = df.boxplot('HR_ARRIVAL','ADMSRC', rot=45, figsize=(9,6), showfliers=False)"
   ]
  },
  {
   "cell_type": "code",
   "execution_count": 7,
   "metadata": {},
   "outputs": [
    {
     "data": {
      "text/plain": [
       "<matplotlib.axes._subplots.AxesSubplot at 0x1a35a4bb70>"
      ]
     },
     "execution_count": 7,
     "metadata": {},
     "output_type": "execute_result"
    },
    {
     "data": {
      "image/png": "[encoded data removed]",
      "text/plain": [
       "<Figure size 432x288 with 1 Axes>"
      ]
     },
     "metadata": {
      "needs_background": "light"
     },
     "output_type": "display_data"
    }
   ],
   "source": [
    "eth_race = df.groupby(['ETHNICITY', 'RACE']).size()\n",
    "eth_race.plot(kind='bar', width=1)"
   ]
  },
  {
   "cell_type": "code",
   "execution_count": 8,
   "metadata": {},
   "outputs": [
    {
     "data": {
      "image/png": "[encoded data removed]",
      "text/plain": [
       "<Figure size 432x288 with 1 Axes>"
      ]
     },
     "metadata": {
      "needs_background": "light"
     },
     "output_type": "display_data"
    }
   ],
   "source": [
    "x_age = df['AGES'].unique()\n",
    "age_count =  df['AGES'].value_counts()\n",
    "\n",
    "plt.bar(x_age, age_count, align='center', width=5, alpha=1)\n",
    "plt.xticks(x_age)\n",
    "plt.ylabel('Count')\n",
    "plt.title('Ages of ED Patients')\n",
    "plt.xlim(right=100, left=-5)\n",
    "plt.show()"
   ]
  },
  {
   "cell_type": "code",
   "execution_count": null,
   "metadata": {},
   "outputs": [],
   "source": [
    "sns.pairplot(df_cat)"
   ]
  },
  {
   "cell_type": "code",
   "execution_count": null,
   "metadata": {},
   "outputs": [],
   "source": [
    "sns.heatmap(df_cat)\n",
    "plt.figure(figsize=(10,5))\n",
    "sns.heatmap(df.corr())"
   ]
  },
  {
   "cell_type": "code",
   "execution_count": null,
   "metadata": {},
   "outputs": [],
   "source": [
    "florida_map = gpd.read_file('/Users/EricJC/Documents/Data/tl_2016_12_cousub.shp')\n",
    "fig.ax = plt.subplots(figsize = (15,15))\n",
    "florida_map.plot(ax=ax)"
   ]
  },
  {
   "cell_type": "code",
   "execution_count": 10,
   "metadata": {},
   "outputs": [],
   "source": [
    "from numpy import array\n",
    "from numpy import argmax\n",
    "from sklearn.preprocessing import LabelEncoder\n",
    "from sklearn.preprocessing import OneHotEncoder\n"
   ]
  },
  {
   "cell_type": "code",
   "execution_count": 13,
   "metadata": {},
   "outputs": [],
   "source": [
    "def split_target(data, target_name):\n",
    "       target = data[[target_name]]\n",
    "       data.drop(target_name, axis=1, inplace=True)\n",
    "       return (data, target)\n",
    "X, y = split_target(df_cat, 'REASON_CDE_01')"
   ]
  },
  {
   "cell_type": "code",
   "execution_count": 14,
   "metadata": {},
   "outputs": [],
   "source": [
    "#after splitting my data into train and test with the code above, X contains the df and y contains the target (or response variable)\n",
    "from sklearn.model_selection import train_test_split\n",
    "X_train, X_test, y_train, y_test = train_test_split(X, y, test_size=0.25, random_state=42)"
   ]
  },
  {
   "cell_type": "code",
   "execution_count": 16,
   "metadata": {},
   "outputs": [
    {
     "name": "stdout",
     "output_type": "stream",
     "text": [
      "REASON_CDE_01\n",
      "0    5989152\n",
      "1      10848\n",
      "dtype: int64\n"
     ]
    }
   ],
   "source": [
    "#Just to check...\n",
    "print(y_train.groupby('REASON_CDE_01').size())"
   ]
  },
  {
   "cell_type": "code",
   "execution_count": 17,
   "metadata": {},
   "outputs": [],
   "source": [
    "X_train = pd.get_dummies(X_train)\n",
    "X_test = pd.get_dummies(X_test)"
   ]
  },
  {
   "cell_type": "code",
   "execution_count": 18,
   "metadata": {},
   "outputs": [],
   "source": [
    "X_train.loc[:] = X_train.loc[:].apply(pd.to_numeric)\n",
    "X_test.loc[:] = X_test.loc[:].apply(pd.to_numeric)"
   ]
  },
  {
   "cell_type": "code",
   "execution_count": 19,
   "metadata": {},
   "outputs": [],
   "source": [
    "X_train_cols = X_train.columns\n",
    "X_test_cols = X_test.columns"
   ]
  },
  {
   "cell_type": "code",
   "execution_count": 20,
   "metadata": {},
   "outputs": [],
   "source": [
    "X_train = X_train.values\n",
    "X_test = X_test.values"
   ]
  },
  {
   "cell_type": "markdown",
   "metadata": {},
   "source": [
    "Linear Regression model for the data"
   ]
  },
  {
   "cell_type": "code",
   "execution_count": 22,
   "metadata": {},
   "outputs": [
    {
     "name": "stderr",
     "output_type": "stream",
     "text": [
      "/Users/EricJC/anaconda3/lib/python3.7/site-packages/sklearn/linear_model/logistic.py:433: FutureWarning: Default solver will be changed to 'lbfgs' in 0.22. Specify a solver to silence this warning.\n",
      "  FutureWarning)\n"
     ]
    },
    {
     "name": "stdout",
     "output_type": "stream",
     "text": [
      "<class 'sklearn.linear_model.logistic.LogisticRegression'>\n",
      "Training accuracy: 0.998192\n",
      "Validation accuracy: 0.99819\n",
      "             column      coef\n",
      "13          AGES_30  1.395667\n",
      "26        AGES_1000  1.358803\n",
      "14          AGES_40  1.065158\n",
      "1         ETHNICITY  0.776601\n",
      "3               SEX  0.720423\n",
      "21         AGES_110  0.616572\n",
      "25         AGES_890  0.557225\n",
      "2              RACE  0.526358\n",
      "23         AGES_140  0.508831\n",
      "12          AGES_20  0.484582\n",
      "15          AGES_50  0.424646\n",
      "7             PAYER  0.134826\n",
      "6         PT_STATUS  0.116782\n",
      "4           WEEKDAY  0.041699\n",
      "16          AGES_60  0.035861\n",
      "5        EDHR_DISCH -0.003810\n",
      "0        FAC_REGION -0.034794\n",
      "22         AGES_120 -0.102344\n",
      "17          AGES_70 -0.503429\n",
      "20         AGES_100 -1.477283\n",
      "18          AGES_80 -1.665732\n",
      "19          AGES_90 -1.800897\n",
      "10           AGES_0 -2.130661\n",
      "24         AGES_780 -2.652653\n",
      "11          AGES_10 -3.062398\n",
      "9   HR_ARRIVAL_01_1 -3.343189\n",
      "8   HR_ARRIVAL_01_0 -3.604864\n"
     ]
    }
   ],
   "source": [
    "from sklearn.linear_model import LogisticRegression\n",
    "\n",
    "clfs = [LogisticRegression()]\n",
    "for clf in clfs:\n",
    "    clf.fit(X_train, y_train.values.ravel())\n",
    "    print(type(clf))\n",
    "    print('Training accuracy: ' + str(clf.score(X_train, y_train)))\n",
    "    print('Validation accuracy: ' + str(clf.score(X_test, y_test)))\n",
    "    coefs = {\n",
    "        'column': [X_train_cols[i] for i in range(len(X_train_cols))],\n",
    "        'coef': [clf.coef_[0,i] for i in range(len(X_train_cols))]\n",
    "       }\n",
    "    df_coefs = pd.DataFrame(coefs)\n",
    "    print(df_coefs.sort_values('coef', axis=0, ascending=False))\n"
   ]
  },
  {
   "cell_type": "markdown",
   "metadata": {},
   "source": [
    "Random Forest model"
   ]
  },
  {
   "cell_type": "code",
   "execution_count": null,
   "metadata": {},
   "outputs": [],
   "source": [
    "from sklearn.ensemble import RandomForestClassifier\n",
    "\n",
    "clfs_rf = [RandomForestClassifier(n_estimators=100)]\n",
    "for clf in clfs_rf:\n",
    "    clf.fit(X_train, y_train.values.ravel())\n",
    "    print(type(clf))\n",
    "    print('Training accuracy: ' + str(clf.score(X_train, y_train)))\n",
    "    print('Validation accuracy: ' + str(clf.score(X_test, y_test)))\n",
    "    imps = {\n",
    "        'column': [X_train_cols[i] for i in range(len(X_train_cols))],\n",
    "        'imp': [clf.feature_importances_[i] for i in range(len(X_train_cols))]}\n",
    "    df_imps = pd.DataFrame(imps)\n",
    "    print(df_imps.sort_values('imp', axis=0, ascending=False))"
   ]
  },
  {
   "cell_type": "markdown",
   "metadata": {},
   "source": [
    "Neural Network model"
   ]
  },
  {
   "cell_type": "code",
   "execution_count": null,
   "metadata": {},
   "outputs": [],
   "source": [
    "from sklearn.preprocessing import StandardScaler\n",
    "from sklearn.neural_network import MLPClassifier\n",
    "\n",
    "# Scale data\n",
    "scaler = StandardScaler()\n",
    "scaler.fit(X_train)\n",
    "X_train_Tx = scaler.transform(X_train)\n",
    "X_test_Tx = scaler.transform(X_test)\n",
    "\n",
    "# Fit models that require scaling (e.g. neural networks)\n",
    "hl_sizes = [150,100,80,60,40,20]\n",
    "nn_clfs = [MLPClassifier(hidden_layer_sizes=(size,), random_state=42, verbose=True) for size in hl_sizes]\n",
    "for num, nn_clf in enumerate(nn_clfs):\n",
    "    print(str(hl_sizes[num]) + '-unit network:')\n",
    "    nn_clf.fit(X_train_Tx, y_train.ravel())\n",
    "    print('Training accuracy: ' + str(nn_clf.score(X_train_Tx, y_train)))\n",
    "    print('Validation accuracy: ' + str(nn_clf.score(X_test_Tx, y_test)))\n"
   ]
  },
  {
   "cell_type": "code",
   "execution_count": null,
   "metadata": {},
   "outputs": [],
   "source": [
    "Importing the files originally as a whole, then changed the df multiple times by dropping columns.\n",
    "\n",
    "this proved to be quite slow, and used a lot of memory.\n",
    "\n",
    "So, i changed the way that the data was imported, just pulling the information that i was interested in\n",
    "\n",
    "I then created a few functions to help with cleaning my data.\n",
    "1. select the dx that i was interested in\n",
    "2. the second function looked at the time of a pt's arrival in the ED. I basically separated the times by \"late\" and \"not late\"\n",
    "since the data is representative of 24 hours in the day\n",
    "3. i decided to group the ages by decades\n",
    "\n",
    "the plots that will be shown will basically show a few things:\n",
    "    1. which zip codes have the highest number of pts for the dx codes of interest\n",
    "    2. what type of patients are frequenting the ED for the dx codes\n",
    "    3. what time of days and days of the week these visits are occuring\n",
    "    4. which physicians are showing higher utilization\n",
    "    these will be a mixture of heat maps and line graphs and bar charts\n",
    "    \n",
    "with the data structured in this fashion will provide a good foundation for machine learning models to be used for predictions\n"
   ]
  }
 ],
 "metadata": {
  "kernelspec": {
   "display_name": "Python 3",
   "language": "python",
   "name": "python3"
  },
  "language_info": {
   "codemirror_mode": {
    "name": "ipython",
    "version": 3
   },
   "file_extension": ".py",
   "mimetype": "text/x-python",
   "name": "python",
   "nbconvert_exporter": "python",
   "pygments_lexer": "ipython3",
   "version": "3.7.3"
  }
 },
 "nbformat": 4,
 "nbformat_minor": 2
}
