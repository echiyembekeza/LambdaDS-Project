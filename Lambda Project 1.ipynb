{
 "cells": [
  {
   "cell_type": "markdown",
   "metadata": {},
   "source": [
    "# AMBULATORY and EMERGENCY DEPARTMENT PATIENT DATA\n",
    "I have 8 different csv files that contains my data. Instead of reading each of the files independently, I decided to put them in one folder and read them all at once, while concatenating.\n",
    "\n",
    "By using the glob.glob function, I was able to use list comprehension and make this import pretty seamless.\n",
    "\n",
    "glob.glob('data*.csv') - returns List[str]  \n",
    "pd.read_csv(f) - returns pd.DataFrame()  \n",
    "for f in glob.glob() - returns a List[DataFrames]  \n",
    "pd.concat() - returns one pd.DataFrame()"
   ]
  },
  {
   "cell_type": "code",
   "execution_count": 1,
   "metadata": {},
   "outputs": [
    {
     "name": "stderr",
     "output_type": "stream",
     "text": [
      "/Users/EricJC/anaconda3/lib/python3.7/site-packages/IPython/core/interactiveshell.py:3214: DtypeWarning: Columns (6,20,26,27,28,31,32,33,34,35,36,37,38,39,40,41,42,43,44,45,46,47,48,49,50,51,52,53,54,55,56,57,58,59,60,70,73,76,78) have mixed types. Specify dtype option on import or set low_memory=False.\n",
      "  if (yield from self.run_code(code, result)):\n",
      "/Users/EricJC/anaconda3/lib/python3.7/site-packages/IPython/core/interactiveshell.py:3214: DtypeWarning: Columns (6,20,26,27,28,29,30,31,32,33,34,35,36,37,38,39,40,41,42,43,44,45,46,47,48,49,50,51,52,53,54,55,56,57,58,59,60,70,73,78) have mixed types. Specify dtype option on import or set low_memory=False.\n",
      "  if (yield from self.run_code(code, result)):\n",
      "/Users/EricJC/anaconda3/lib/python3.7/site-packages/IPython/core/interactiveshell.py:3214: DtypeWarning: Columns (6,20,26,27,28,31,32,33,34,35,36,37,38,39,40,41,42,43,44,45,46,47,48,49,50,51,52,53,54,55,56,57,58,59,60,70,73,74,75,76,77,78,83) have mixed types. Specify dtype option on import or set low_memory=False.\n",
      "  if (yield from self.run_code(code, result)):\n",
      "/Users/EricJC/anaconda3/lib/python3.7/site-packages/IPython/core/interactiveshell.py:3214: DtypeWarning: Columns (6,20,26,27,28,31,32,33,34,35,36,37,38,39,40,41,42,43,44,45,46,47,48,49,50,51,52,53,54,55,56,57,58,59,60,70,73,74,75,76,77,78,81,83) have mixed types. Specify dtype option on import or set low_memory=False.\n",
      "  if (yield from self.run_code(code, result)):\n",
      "/Users/EricJC/anaconda3/lib/python3.7/site-packages/IPython/core/interactiveshell.py:3214: DtypeWarning: Columns (6,20,26,27,28,29,31,32,33,34,35,36,37,38,39,40,41,42,43,44,45,46,47,48,49,50,51,52,53,54,55,56,57,58,59,60,69,70,71,72,73,74,75,76,77,78,81,83) have mixed types. Specify dtype option on import or set low_memory=False.\n",
      "  if (yield from self.run_code(code, result)):\n",
      "/Users/EricJC/anaconda3/lib/python3.7/site-packages/IPython/core/interactiveshell.py:3214: DtypeWarning: Columns (6,20,26,27,28,29,31,32,33,34,35,36,37,38,39,40,41,42,43,44,45,46,47,48,49,50,51,52,53,54,55,56,57,58,59,60,70,71,72,73,74,75,76,77,78,83) have mixed types. Specify dtype option on import or set low_memory=False.\n",
      "  if (yield from self.run_code(code, result)):\n"
     ]
    },
    {
     "name": "stdout",
     "output_type": "stream",
     "text": [
      "   SYS_RECID  YEAR  QTR  FACLNBR  MCARE_NBR  TYPE_SERV SERV_LOC  PRO_CODE  \\\n",
      "0  100140850  2018    1   100029     100029          2      NaN        23   \n",
      "1  100140851  2018    1   100029     100029          2      NaN        23   \n",
      "2  100140852  2018    1   100029     100029          2      NaN        23   \n",
      "3  100140853  2018    1   100029     100029          2      NaN        23   \n",
      "4  100140854  2018    1   100029     100029          2      NaN        23   \n",
      "\n",
      "   FAC_REGION  FAC_COUNTY  ...  OTHDIAG1  OTHDIAG2 OTHDIAG3  OTHDIAG4  \\\n",
      "0          11          13  ...       NaN       NaN      NaN       NaN   \n",
      "1          11          13  ...     N39.0       NaN      NaN       NaN   \n",
      "2          11          13  ...   Z00.129       NaN      NaN       NaN   \n",
      "3          11          13  ...       I10    M75.82    M77.8       NaN   \n",
      "4          11          13  ...  T14.90XD       NaN      NaN       NaN   \n",
      "\n",
      "   OTHDIAG5   ECMORB1  ECMORB2  ECMORB3 ATTEN_PHYI  ATTEN_PHYN  \n",
      "0       NaN  W50.3XXA   Y92.69      NaN   ME107380  1639495245  \n",
      "1       NaN       NaN      NaN      NaN   ME107380  1639495245  \n",
      "2       NaN       NaN      NaN      NaN   ME107380  1639495245  \n",
      "3       NaN       NaN      NaN      NaN   ME107380  1639495245  \n",
      "4       NaN  X19.XXXA  Y92.009      NaN   ME107380  1639495245  \n",
      "\n",
      "[5 rows x 43 columns]\n"
     ]
    },
    {
     "data": {
      "text/html": [
       "<div>\n",
       "<style scoped>\n",
       "    .dataframe tbody tr th:only-of-type {\n",
       "        vertical-align: middle;\n",
       "    }\n",
       "\n",
       "    .dataframe tbody tr th {\n",
       "        vertical-align: top;\n",
       "    }\n",
       "\n",
       "    .dataframe thead th {\n",
       "        text-align: right;\n",
       "    }\n",
       "</style>\n",
       "<table border=\"1\" class=\"dataframe\">\n",
       "  <thead>\n",
       "    <tr style=\"text-align: right;\">\n",
       "      <th></th>\n",
       "      <th>SYS_RECID</th>\n",
       "      <th>YEAR</th>\n",
       "      <th>QTR</th>\n",
       "      <th>FACLNBR</th>\n",
       "      <th>MCARE_NBR</th>\n",
       "      <th>TYPE_SERV</th>\n",
       "      <th>SERV_LOC</th>\n",
       "      <th>PRO_CODE</th>\n",
       "      <th>FAC_REGION</th>\n",
       "      <th>FAC_COUNTY</th>\n",
       "      <th>...</th>\n",
       "      <th>OTHDIAG1</th>\n",
       "      <th>OTHDIAG2</th>\n",
       "      <th>OTHDIAG3</th>\n",
       "      <th>OTHDIAG4</th>\n",
       "      <th>OTHDIAG5</th>\n",
       "      <th>ECMORB1</th>\n",
       "      <th>ECMORB2</th>\n",
       "      <th>ECMORB3</th>\n",
       "      <th>ATTEN_PHYI</th>\n",
       "      <th>ATTEN_PHYN</th>\n",
       "    </tr>\n",
       "  </thead>\n",
       "  <tbody>\n",
       "    <tr>\n",
       "      <th>131</th>\n",
       "      <td>100140791</td>\n",
       "      <td>2018</td>\n",
       "      <td>1</td>\n",
       "      <td>100029</td>\n",
       "      <td>100029</td>\n",
       "      <td>2</td>\n",
       "      <td>NaN</td>\n",
       "      <td>23</td>\n",
       "      <td>11</td>\n",
       "      <td>13</td>\n",
       "      <td>...</td>\n",
       "      <td>NaN</td>\n",
       "      <td>NaN</td>\n",
       "      <td>NaN</td>\n",
       "      <td>NaN</td>\n",
       "      <td>NaN</td>\n",
       "      <td>Y92.9</td>\n",
       "      <td>NaN</td>\n",
       "      <td>NaN</td>\n",
       "      <td>ME124985</td>\n",
       "      <td>1336497890</td>\n",
       "    </tr>\n",
       "    <tr>\n",
       "      <th>331</th>\n",
       "      <td>100140916</td>\n",
       "      <td>2018</td>\n",
       "      <td>1</td>\n",
       "      <td>100029</td>\n",
       "      <td>100029</td>\n",
       "      <td>2</td>\n",
       "      <td>NaN</td>\n",
       "      <td>23</td>\n",
       "      <td>11</td>\n",
       "      <td>13</td>\n",
       "      <td>...</td>\n",
       "      <td>NaN</td>\n",
       "      <td>NaN</td>\n",
       "      <td>NaN</td>\n",
       "      <td>NaN</td>\n",
       "      <td>NaN</td>\n",
       "      <td>Y92.009</td>\n",
       "      <td>NaN</td>\n",
       "      <td>NaN</td>\n",
       "      <td>ME131402</td>\n",
       "      <td>1164835443</td>\n",
       "    </tr>\n",
       "    <tr>\n",
       "      <th>544</th>\n",
       "      <td>100141129</td>\n",
       "      <td>2018</td>\n",
       "      <td>1</td>\n",
       "      <td>100029</td>\n",
       "      <td>100029</td>\n",
       "      <td>2</td>\n",
       "      <td>NaN</td>\n",
       "      <td>23</td>\n",
       "      <td>11</td>\n",
       "      <td>13</td>\n",
       "      <td>...</td>\n",
       "      <td>F11.10</td>\n",
       "      <td>F19.10</td>\n",
       "      <td>F20.9</td>\n",
       "      <td>M06.9</td>\n",
       "      <td>NaN</td>\n",
       "      <td>Y92.009</td>\n",
       "      <td>NaN</td>\n",
       "      <td>NaN</td>\n",
       "      <td>OS7598</td>\n",
       "      <td>1902802713</td>\n",
       "    </tr>\n",
       "    <tr>\n",
       "      <th>701</th>\n",
       "      <td>100141551</td>\n",
       "      <td>2018</td>\n",
       "      <td>1</td>\n",
       "      <td>100029</td>\n",
       "      <td>100029</td>\n",
       "      <td>2</td>\n",
       "      <td>NaN</td>\n",
       "      <td>23</td>\n",
       "      <td>11</td>\n",
       "      <td>13</td>\n",
       "      <td>...</td>\n",
       "      <td>T40.5X1A</td>\n",
       "      <td>F14.10</td>\n",
       "      <td>F18.10</td>\n",
       "      <td>NaN</td>\n",
       "      <td>NaN</td>\n",
       "      <td>NaN</td>\n",
       "      <td>NaN</td>\n",
       "      <td>NaN</td>\n",
       "      <td>ME107380</td>\n",
       "      <td>1639495245</td>\n",
       "    </tr>\n",
       "    <tr>\n",
       "      <th>1877</th>\n",
       "      <td>100142462</td>\n",
       "      <td>2018</td>\n",
       "      <td>1</td>\n",
       "      <td>100029</td>\n",
       "      <td>100029</td>\n",
       "      <td>2</td>\n",
       "      <td>NaN</td>\n",
       "      <td>23</td>\n",
       "      <td>11</td>\n",
       "      <td>13</td>\n",
       "      <td>...</td>\n",
       "      <td>NaN</td>\n",
       "      <td>NaN</td>\n",
       "      <td>NaN</td>\n",
       "      <td>NaN</td>\n",
       "      <td>NaN</td>\n",
       "      <td>NaN</td>\n",
       "      <td>NaN</td>\n",
       "      <td>NaN</td>\n",
       "      <td>OS7598</td>\n",
       "      <td>1902802713</td>\n",
       "    </tr>\n",
       "  </tbody>\n",
       "</table>\n",
       "<p>5 rows × 43 columns</p>\n",
       "</div>"
      ],
      "text/plain": [
       "      SYS_RECID  YEAR  QTR  FACLNBR  MCARE_NBR  TYPE_SERV SERV_LOC  PRO_CODE  \\\n",
       "131   100140791  2018    1   100029     100029          2      NaN        23   \n",
       "331   100140916  2018    1   100029     100029          2      NaN        23   \n",
       "544   100141129  2018    1   100029     100029          2      NaN        23   \n",
       "701   100141551  2018    1   100029     100029          2      NaN        23   \n",
       "1877  100142462  2018    1   100029     100029          2      NaN        23   \n",
       "\n",
       "      FAC_REGION  FAC_COUNTY  ...  OTHDIAG1  OTHDIAG2 OTHDIAG3  OTHDIAG4  \\\n",
       "131           11          13  ...       NaN       NaN      NaN       NaN   \n",
       "331           11          13  ...       NaN       NaN      NaN       NaN   \n",
       "544           11          13  ...    F11.10    F19.10    F20.9     M06.9   \n",
       "701           11          13  ...  T40.5X1A    F14.10   F18.10       NaN   \n",
       "1877          11          13  ...       NaN       NaN      NaN       NaN   \n",
       "\n",
       "      OTHDIAG5  ECMORB1  ECMORB2  ECMORB3 ATTEN_PHYI  ATTEN_PHYN  \n",
       "131        NaN    Y92.9      NaN      NaN   ME124985  1336497890  \n",
       "331        NaN  Y92.009      NaN      NaN   ME131402  1164835443  \n",
       "544        NaN  Y92.009      NaN      NaN     OS7598  1902802713  \n",
       "701        NaN      NaN      NaN      NaN   ME107380  1639495245  \n",
       "1877       NaN      NaN      NaN      NaN     OS7598  1902802713  \n",
       "\n",
       "[5 rows x 43 columns]"
      ]
     },
     "execution_count": 1,
     "metadata": {},
     "output_type": "execute_result"
    }
   ],
   "source": [
    "import pandas as pd\n",
    "import numpy as np\n",
    "import glob\n",
    "\n",
    "cols = ['SYS_RECID', 'YEAR', 'QTR', 'FACLNBR', 'MCARE_NBR', 'TYPE_SERV',\n",
    "       'SERV_LOC', 'PRO_CODE', 'FAC_REGION', 'FAC_COUNTY', 'ETHNICITY', 'RACE',\n",
    "       'SEX', 'AGE', 'LOSDAYS', 'WEEKDAY', 'ZIPCODE', 'PTCOUNTY', 'PTSTATE',\n",
    "       'PTCOUNTRY', 'ADMSRC', 'HR_ARRIVAL', 'EDHR_DISCH', 'PT_STATUS', 'PAYER',\n",
    "       'REASON_CDE', 'EVALCODE1', 'EVALCODE2', 'EVALCODE3', 'EVALCODE4',\n",
    "       'EVALCODE5', 'OTHCPT1', 'OTHCPT2', 'OTHCPT3', 'OTHCPT4', 'OTHCPT5',\n",
    "       'OTHCPT6', 'OTHCPT7', 'OTHCPT8', 'OTHCPT9', 'OTHCPT10', 'OTHCPT11',\n",
    "       'OTHCPT12', 'OTHCPT13', 'OTHCPT14', 'OTHCPT15', 'OTHCPT16', 'OTHCPT17',\n",
    "       'OTHCPT18', 'OTHCPT19', 'OTHCPT20', 'OTHCPT21', 'OTHCPT22', 'OTHCPT23',\n",
    "       'OTHCPT24', 'OTHCPT25', 'OTHCPT26', 'OTHCPT27', 'OTHCPT28', 'OTHCPT29',\n",
    "       'OTHCPT30', 'PRINDIAG', 'OTHDIAG1', 'OTHDIAG2', 'OTHDIAG3', 'OTHDIAG4',\n",
    "       'OTHDIAG5', 'OTHDIAG6', 'OTHDIAG7', 'OTHDIAG8', 'OTHDIAG9', 'ECMORB1',\n",
    "       'ECMORB2', 'ECMORB3', 'ATTEN_PHYI', 'ATTEN_PHYN', 'OPER_PHYID',\n",
    "       'OPER_PHYNP', 'OTHOPER_PH', 'OTHOPER__A', 'PHARMCHGS', 'MEDCHGS',\n",
    "       'LABCHGS', 'RADCHGS', 'CARDIOCHGS', 'OPRMCHGS', 'ANESCHGS', 'RECOVCHGS',\n",
    "       'ERCHGS', 'TRAUMACHGS', 'OBSERCHGS', 'GASTROCHGS', 'LITHOCHGS',\n",
    "       'OTHCHGS', 'TCHGS']\n",
    "\n",
    "unneeded_data = ['EVALCODE2','EVALCODE3','EVALCODE4','EVALCODE5','OTHCPT6','OTHCPT7','OTHCPT8',\n",
    "                'OTHCPT9','OTHCPT10','OTHCPT11','OTHCPT12','OTHCPT13', 'OTHCPT14',\n",
    "                'OTHCPT15', 'OTHCPT16', 'OTHCPT17', 'OTHCPT18','OTHCPT19', 'OTHCPT20',\n",
    "                'OTHCPT21', 'OTHCPT22', 'OTHCPT23', 'OTHCPT24','OTHCPT25', 'OTHCPT26',\n",
    "                'OTHCPT27', 'OTHCPT28', 'OTHCPT29', 'OTHCPT30','OTHDIAG6','OTHDIAG7',\n",
    "                'OTHDIAG8','OTHDIAG9','OTHOPER_PH','OTHOPER__A','PHARMCHGS', 'MEDCHGS', 'LABCHGS',\n",
    "                'RADCHGS', 'CARDIOCHGS', 'OPRMCHGS', 'ANESCHGS', 'RECOVCHGS', 'ERCHGS',\n",
    "                'TRAUMACHGS', 'OBSERCHGS', 'GASTROCHGS', 'LITHOCHGS', 'OTHCHGS','TCHGS','OPER_PHYID',\n",
    "                 'OPER_PHYNP','PRINPROC','OTHPROC1','OTHPROC2','OTHPROC3','OTHPROC4']\n",
    "\n",
    "#These are the opioid codes that we are most interested in. We will filter the [REASON_CDE] column by these specific codes\n",
    "opioid_dx = ('F11.10','F11.120','F11.121',\n",
    "'F11.122','F11.129','F11.14','F11.150','F11.151','F11.159','F11.181','F11.182','F11.188',\n",
    "'F11.19','F11.20','F11.220','F11.221','F11.222','F11.229','F11.23','F11.24','F11.250',\n",
    "'F11.251','F11.259','F11.281','F11.282','F11.288','F11.29','F11.90','F11.920','F11.921',\n",
    "'F11.922','F11.929','F11.93','F11.94','F11.950','F11.951','F11.959','F11.981','F11.982',\n",
    "'F11.988','F11.99','T40.0X1A','T40.0X1D','T40.0X1S','T40.0X4A','T40.0X4D','T40.0X4S',\n",
    "'T40.0X5A','T40.0X5D','T40.0X5S','T40.1X1A','T40.1X1D','T40.1X1S','T40.1X4A','T40.1X4D',\n",
    "'T40.1X4S','T40.2X1A','T40.2X1D','T40.2X1S','T40.2X4A','T40.2X4D','T40.2X4S','T40.2X5A',\n",
    "'T40.2X5D','T40.2X5S','T40.3X1A','T40.3X1D','T40.3X1S','T40.3X4A','T40.3X4D','T40.3X4S',\n",
    "'T40.3X5A','T40.3X5D','T40.3X5S','T40.4X1A','T40.4X1D','T40.4X1S','T40.4X4A','T40.4X4D',\n",
    "'T40.4X4S','T40.4X5A','T40.4X5D','T40.4X5S','T40.601A','T40.601D','T40.601S','T40.604A',\n",
    "'T40.604D','T40.604S','T40.605A','T40.605D','T40.605S','T40.691A','T40.691D','T40.691S',\n",
    "'T40.694A','T40.694D','T40.694S','T40.695A','T40.695D','T40.695S','T40.0X2A','T40.0X2D',\n",
    "'T40.0X2S','T40.0X3A','T40.0X3D','T40.0X3S','T40.1X2A','T40.1X2D','T40.1X2S','T40.1X3A',\n",
    "'T40.1X3D','T40.1X3S','T40.2X2A','T40.2X2D','T40.2X2S','T40.2X3A','T40.2X3D','T40.2X3S',\n",
    "'T40.3X2A','T40.3X2D','T40.3X2S','T40.3X3A','T40.3X3D','T40.3X3S','T40.4X2A','T40.4X2D',\n",
    "'T40.4X2S','T40.4X3A','T40.4X3D','T40.4X3S','T40.602A','T40.602D','T40.602S','T40.603A',\n",
    "'T40.603D','T40.603S','T40.692A','T40.692D','T40.692S','T40.693A','T40.693D','T40.693S') \n",
    "\n",
    "\n",
    "#df = pd.concat([pd.read_csv(f , dtype= object) for f in glob.glob('/Users/EricJC/Desktop/Data/*.csv')], ignore_index = True, sort=False)\n",
    "df = pd.concat([pd.read_csv(f) for f in glob.glob('/Users/EricJC/Desktop/Data/*.csv')], ignore_index = True, sort=False)\n",
    "df = df.drop(unneeded_data, axis = 1)\n",
    "df1 = df.loc[df['REASON_CDE'].isin(opioid_dx)]\n",
    "print(df.head())\n",
    "df1.head()"
   ]
  },
  {
   "cell_type": "code",
   "execution_count": 3,
   "metadata": {},
   "outputs": [
    {
     "name": "stdout",
     "output_type": "stream",
     "text": [
      "SYS_RECID           0\n",
      "YEAR                0\n",
      "QTR                 0\n",
      "FACLNBR             0\n",
      "MCARE_NBR           0\n",
      "TYPE_SERV           0\n",
      "SERV_LOC      7323984\n",
      "PRO_CODE            0\n",
      "FAC_REGION          0\n",
      "FAC_COUNTY          0\n",
      "ETHNICITY           0\n",
      "RACE                0\n",
      "SEX                 0\n",
      "AGE                 0\n",
      "LOSDAYS             0\n",
      "WEEKDAY             0\n",
      "ZIPCODE             0\n",
      "PTCOUNTY            0\n",
      "PTSTATE             0\n",
      "PTCOUNTRY           7\n",
      "ADMSRC              0\n",
      "HR_ARRIVAL          0\n",
      "EDHR_DISCH          0\n",
      "PT_STATUS           0\n",
      "PAYER               0\n",
      "REASON_CDE     337663\n",
      "EVALCODE1          13\n",
      "OTHCPT1       1463388\n",
      "OTHCPT2       2546423\n",
      "OTHCPT3       3379984\n",
      "OTHCPT4       3977988\n",
      "OTHCPT5       4425307\n",
      "PRINDIAG         3077\n",
      "OTHDIAG1      2250175\n",
      "OTHDIAG2      4121271\n",
      "OTHDIAG3      5362508\n",
      "OTHDIAG4      6163765\n",
      "OTHDIAG5      6694636\n",
      "ECMORB1       6277089\n",
      "ECMORB2       7291285\n",
      "ECMORB3       7837626\n",
      "ATTEN_PHYI      21763\n",
      "ATTEN_PHYN          0\n",
      "dtype: int64\n"
     ]
    },
    {
     "data": {
      "text/plain": [
       "SYS_RECID         0\n",
       "YEAR              0\n",
       "QTR               0\n",
       "FACLNBR           0\n",
       "MCARE_NBR         0\n",
       "TYPE_SERV         0\n",
       "SERV_LOC      13699\n",
       "PRO_CODE          0\n",
       "FAC_REGION        0\n",
       "FAC_COUNTY        0\n",
       "ETHNICITY         0\n",
       "RACE              0\n",
       "SEX               0\n",
       "AGE               0\n",
       "LOSDAYS           0\n",
       "WEEKDAY           0\n",
       "ZIPCODE           0\n",
       "PTCOUNTY          0\n",
       "PTSTATE           0\n",
       "PTCOUNTRY         0\n",
       "ADMSRC            0\n",
       "HR_ARRIVAL        0\n",
       "EDHR_DISCH        0\n",
       "PT_STATUS         0\n",
       "PAYER             0\n",
       "REASON_CDE        0\n",
       "EVALCODE1         0\n",
       "OTHCPT1        4296\n",
       "OTHCPT2        5382\n",
       "OTHCPT3        6208\n",
       "OTHCPT4        6875\n",
       "OTHCPT5        7550\n",
       "PRINDIAG          1\n",
       "OTHDIAG1       3031\n",
       "OTHDIAG2       7107\n",
       "OTHDIAG3       9847\n",
       "OTHDIAG4      11550\n",
       "OTHDIAG5      12571\n",
       "ECMORB1       12443\n",
       "ECMORB2       14333\n",
       "ECMORB3       14437\n",
       "ATTEN_PHYI       55\n",
       "ATTEN_PHYN        0\n",
       "dtype: int64"
      ]
     },
     "execution_count": 3,
     "metadata": {},
     "output_type": "execute_result"
    }
   ],
   "source": [
    "#important to see where my missing values are\n",
    "print(df.isna().sum())\n",
    "df1.isna().sum()"
   ]
  },
  {
   "cell_type": "code",
   "execution_count": 19,
   "metadata": {},
   "outputs": [
    {
     "name": "stdout",
     "output_type": "stream",
     "text": [
      "(8000000, 43)\n"
     ]
    },
    {
     "data": {
      "text/plain": [
       "(14468, 43)"
      ]
     },
     "execution_count": 19,
     "metadata": {},
     "output_type": "execute_result"
    }
   ],
   "source": [
    "print(df.shape)\n",
    "df1.shape"
   ]
  },
  {
   "cell_type": "code",
   "execution_count": 23,
   "metadata": {},
   "outputs": [
    {
     "data": {
      "text/plain": [
       "0  SYS_RECID      100140850\n",
       "   YEAR                2018\n",
       "   QTR                    1\n",
       "   FACLNBR           100029\n",
       "   MCARE_NBR         100029\n",
       "   TYPE_SERV              2\n",
       "   PRO_CODE              23\n",
       "   FAC_REGION            11\n",
       "   FAC_COUNTY            13\n",
       "   ETHNICITY             E2\n",
       "   RACE                   3\n",
       "   SEX                    F\n",
       "   AGE                   39\n",
       "   LOSDAYS                0\n",
       "   WEEKDAY                2\n",
       "   ZIPCODE            33168\n",
       "   PTCOUNTY              13\n",
       "   PTSTATE               FL\n",
       "   PTCOUNTRY             US\n",
       "   ADMSRC                 1\n",
       "   HR_ARRIVAL            14\n",
       "   EDHR_DISCH            16\n",
       "   PT_STATUS              1\n",
       "   PAYER                  H\n",
       "   REASON_CDE      S50.371A\n",
       "   EVALCODE1          99283\n",
       "   OTHCPT1            J8499\n",
       "   OTHCPT2            90471\n",
       "   OTHCPT3            90714\n",
       "   PRINDIAG        S50.371A\n",
       "                    ...    \n",
       "2  YEAR                2018\n",
       "   QTR                    1\n",
       "   FACLNBR           100029\n",
       "   MCARE_NBR         100029\n",
       "   TYPE_SERV              2\n",
       "   PRO_CODE              23\n",
       "   FAC_REGION            11\n",
       "   FAC_COUNTY            13\n",
       "   ETHNICITY             E2\n",
       "   RACE                   3\n",
       "   SEX                    M\n",
       "   AGE                   17\n",
       "   LOSDAYS                0\n",
       "   WEEKDAY                2\n",
       "   ZIPCODE            33147\n",
       "   PTCOUNTY              13\n",
       "   PTSTATE               FL\n",
       "   PTCOUNTRY             US\n",
       "   ADMSRC                 1\n",
       "   HR_ARRIVAL            13\n",
       "   EDHR_DISCH            13\n",
       "   PT_STATUS              1\n",
       "   PAYER                  D\n",
       "   REASON_CDE        R09.81\n",
       "   EVALCODE1          99283\n",
       "   PRINDIAG          R09.81\n",
       "   OTHDIAG1         Z00.129\n",
       "   ATTEN_PHYI      ME107380\n",
       "   ATTEN_PHYN    1639495245\n",
       "3  SYS_RECID      100140853\n",
       "Length: 100, dtype: object"
      ]
     },
     "execution_count": 23,
     "metadata": {},
     "output_type": "execute_result"
    }
   ],
   "source": [
    "df_stack = df.stack()\n",
    "df_stack.head(100)"
   ]
  },
  {
   "cell_type": "code",
   "execution_count": 41,
   "metadata": {},
   "outputs": [
    {
     "data": {
      "text/plain": [
       "<matplotlib.axes._subplots.AxesSubplot at 0x1c8f6f438>"
      ]
     },
     "execution_count": 41,
     "metadata": {},
     "output_type": "execute_result"
    },
    {
     "data": {
      "image/png": "[encoded data removed]",
      "text/plain": [
       "<Figure size 432x288 with 1 Axes>"
      ]
     },
     "metadata": {
      "needs_background": "light"
     },
     "output_type": "display_data"
    }
   ],
   "source": [
    "import scipy\n",
    "import sklearn\n",
    "\n",
    "%matplotlib inline\n",
    "df_z_codes = df.ZIPCODE.value_counts()\n",
    "df_z_codes = df_z_codes.nlargest(20)\n",
    "df_z_codes.plot.barh()"
   ]
  },
  {
   "cell_type": "code",
   "execution_count": 40,
   "metadata": {},
   "outputs": [
    {
     "data": {
      "text/plain": [
       "<matplotlib.axes._subplots.AxesSubplot at 0x1c84e09e8>"
      ]
     },
     "execution_count": 40,
     "metadata": {},
     "output_type": "execute_result"
    },
    {
     "data": {
      "image/png": "[encoded data removed]",
      "text/plain": [
       "<Figure size 432x288 with 1 Axes>"
      ]
     },
     "metadata": {
      "needs_background": "light"
     },
     "output_type": "display_data"
    }
   ],
   "source": [
    "%matplotlib inline\n",
    "df1_z_codes = df1.ZIPCODE.value_counts()\n",
    "df1_z_codes = df1_z_codes.nlargest(20)\n",
    "df1_z_codes.plot.barh()"
   ]
  },
  {
   "cell_type": "code",
   "execution_count": 49,
   "metadata": {},
   "outputs": [
    {
     "data": {
      "image/png": "[encoded data removed]",
      "text/plain": [
       "<Figure size 1440x1440 with 20 Axes>"
      ]
     },
     "metadata": {
      "needs_background": "light"
     },
     "output_type": "display_data"
    }
   ],
   "source": [
    "df1.hist(figsize = (20,20));\n"
   ]
  },
  {
   "cell_type": "code",
   "execution_count": null,
   "metadata": {},
   "outputs": [],
   "source": [
    "import matplotlib.pyplot as plt\n",
    "import pandas as pd\n",
    "import numpy as np\n",
    "import seaborn as sns\n",
    "\n",
    "sns.pairplot(df1, hue=\"ZIPCODE\")\n",
    "plt.show()\n",
    "#scatter_matrix(df1, figsize=(5,5))"
   ]
  },
  {
   "cell_type": "code",
   "execution_count": null,
   "metadata": {},
   "outputs": [],
   "source": [
    "import matplotlib.pyplot as plt\n",
    "import seaborn as sns\n",
    "sns.set()\n",
    "\n",
    "# Load the dataset and conver to long-form\n",
    "#flights_long = sns.load_dataset(\"flights\")\n",
    "encounters = df1.pivot(\"PTCOUNTY\", \"HR_ARRIVAL\", \"SYS_RECID\")\n",
    "\n",
    "# Draw a heatmap with the numeric values in each cell\n",
    "f, ax = plt.subplots(figsize=(9, 6))\n",
    "sns.heatmap(encounters, annot=True, fmt=\"d\", linewidths=.5, ax=ax)"
   ]
  },
  {
   "cell_type": "code",
   "execution_count": null,
   "metadata": {},
   "outputs": [],
   "source": [
    "df = df.YEAR.astype(int)"
   ]
  },
  {
   "cell_type": "code",
   "execution_count": null,
   "metadata": {},
   "outputs": [],
   "source": [
    "print(\"There are\", len(df.SYS_RECID), \"patient accounts that have the pertinent dx\")\n",
    "print(\"There are\", df.SYS_RECID.nunique(), \"unique patient accounts that have the pertinent dx\")\n",
    "print(\"There are\", df.FACLNBR.nunique(), \"facilities represented\")\n",
    "print(\"There are\", df.TYPE_SERV.nunique(), \"service types\")\n",
    "print(\"There are\", df.PRO_CODE.nunique(), \"Pro Codes\")\n",
    "print(\"There are\", df.FAC_REGION.nunique(),)"
   ]
  },
  {
   "cell_type": "code",
   "execution_count": null,
   "metadata": {},
   "outputs": [],
   "source": [
    "#Subset of year, qtr, and facility number\n",
    "df1 = df.loc[:,'YEAR':'FACLNBR']\n",
    "df1.head()"
   ]
  },
  {
   "cell_type": "code",
   "execution_count": null,
   "metadata": {},
   "outputs": [],
   "source": [
    "df1 = df1.astype(int)\n",
    "df1.head(10)"
   ]
  },
  {
   "cell_type": "code",
   "execution_count": null,
   "metadata": {},
   "outputs": [],
   "source": [
    "#df1.groupby(pd.Grouper(key='YEAR')).value_counts()[0].index.values[0]\n",
    "pd.Grouper(key='YEAR')"
   ]
  },
  {
   "cell_type": "code",
   "execution_count": null,
   "metadata": {},
   "outputs": [],
   "source": [
    "pd.Grouper?"
   ]
  },
  {
   "cell_type": "code",
   "execution_count": null,
   "metadata": {},
   "outputs": [],
   "source": [
    "%matplotlib inline\n",
    "import matplotlib.pyplot as plt\n",
    "plt.style.use('fivethirtyeight')\n",
    "\n",
    "\n",
    "df1.plot.bar(color='C1', width=0.9);"
   ]
  },
  {
   "cell_type": "code",
   "execution_count": null,
   "metadata": {},
   "outputs": [],
   "source": [
    "year_group = df1.groupby(['YEAR'])\n"
   ]
  },
  {
   "cell_type": "code",
   "execution_count": null,
   "metadata": {},
   "outputs": [],
   "source": [
    "w = df['WEEKDAY']\n",
    "w = pd.to_numeric(w)"
   ]
  },
  {
   "cell_type": "code",
   "execution_count": null,
   "metadata": {},
   "outputs": [],
   "source": [
    "weekday = w.value_counts()"
   ]
  },
  {
   "cell_type": "code",
   "execution_count": null,
   "metadata": {},
   "outputs": [],
   "source": [
    "import matplotlib.pyplot as plt\n",
    "import seaborn as sns\n",
    "plt.bar?\n",
    "plt.show"
   ]
  },
  {
   "cell_type": "code",
   "execution_count": null,
   "metadata": {},
   "outputs": [],
   "source": [
    "\n",
    "\n",
    "yr = df['YEAR'].value_counts()\n"
   ]
  },
  {
   "cell_type": "code",
   "execution_count": null,
   "metadata": {},
   "outputs": [],
   "source": [
    "df['SYS_RECID'].value_counts().hist()"
   ]
  },
  {
   "cell_type": "code",
   "execution_count": null,
   "metadata": {},
   "outputs": [],
   "source": []
  },
  {
   "cell_type": "code",
   "execution_count": null,
   "metadata": {},
   "outputs": [],
   "source": []
  },
  {
   "cell_type": "code",
   "execution_count": null,
   "metadata": {},
   "outputs": [],
   "source": [
    "#Volume = who is coming in and how many?\n",
    "#disposition = were they admitted/discharged\n",
    "#times and days trends\n",
    "#Particular area pts are coming from more\n",
    "#Particular facility pts are going to more\n",
    "#payer source"
   ]
  },
  {
   "cell_type": "code",
   "execution_count": null,
   "metadata": {},
   "outputs": [],
   "source": []
  },
  {
   "cell_type": "code",
   "execution_count": null,
   "metadata": {},
   "outputs": [],
   "source": []
  },
  {
   "cell_type": "code",
   "execution_count": null,
   "metadata": {},
   "outputs": [],
   "source": [
    "from bokeh.io import show\n",
    "from bokeh.models import LogColorMapper\n",
    "from bokeh.palettes import Viridis6 as palette\n",
    "from bokeh.plotting import figure\n",
    "\n",
    "from bokeh.sampledata.us_counties import data as counties\n",
    "from bokeh.sampledata.unemployment import data as unemployment\n",
    "\n",
    "palette.reverse()\n",
    "\n",
    "counties = {\n",
    "    code: county for code, county in counties.items() if county[\"state\"] == \"tx\"\n",
    "}\n",
    "\n",
    "county_xs = [county[\"lons\"] for county in counties.values()]\n",
    "county_ys = [county[\"lats\"] for county in counties.values()]\n",
    "\n",
    "county_names = [county['name'] for county in counties.values()]\n",
    "county_rates = [unemployment[county_id] for county_id in counties]\n",
    "color_mapper = LogColorMapper(palette=palette)\n",
    "\n",
    "data=dict(\n",
    "    x=county_xs,\n",
    "    y=county_ys,\n",
    "    name=county_names,\n",
    "    rate=county_rates,\n",
    ")\n",
    "\n",
    "TOOLS = \"pan,wheel_zoom,reset,hover,save\"\n",
    "\n",
    "p = figure(\n",
    "    title=\"Texas Unemployment, 2009\", tools=TOOLS,\n",
    "    x_axis_location=None, y_axis_location=None,\n",
    "    tooltips=[\n",
    "        (\"Name\", \"@name\"), (\"Unemployment rate)\", \"@rate%\"), (\"(Long, Lat)\", \"($x, $y)\")\n",
    "    ])\n",
    "p.grid.grid_line_color = None\n",
    "p.hover.point_policy = \"follow_mouse\"\n",
    "\n",
    "p.patches('x', 'y', source=data,\n",
    "          fill_color={'field': 'rate', 'transform': color_mapper},\n",
    "          fill_alpha=0.7, line_color=\"white\", line_width=0.5)\n",
    "\n",
    "show(p)"
   ]
  },
  {
   "cell_type": "code",
   "execution_count": null,
   "metadata": {},
   "outputs": [],
   "source": []
  }
 ],
 "metadata": {
  "kernelspec": {
   "display_name": "Python 3",
   "language": "python",
   "name": "python3"
  },
  "language_info": {
   "codemirror_mode": {
    "name": "ipython",
    "version": 3
   },
   "file_extension": ".py",
   "mimetype": "text/x-python",
   "name": "python",
   "nbconvert_exporter": "python",
   "pygments_lexer": "ipython3",
   "version": "3.7.3"
  }
 },
 "nbformat": 4,
 "nbformat_minor": 2
}
