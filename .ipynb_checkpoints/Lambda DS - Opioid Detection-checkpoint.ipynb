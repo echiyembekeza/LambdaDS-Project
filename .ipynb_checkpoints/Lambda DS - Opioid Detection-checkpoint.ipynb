{
 "cells": [
  {
   "cell_type": "markdown",
   "metadata": {},
   "source": [
    "# Diagnosing Your Data\n",
    "## Healthcare Data Science Project  \n",
    "\n",
    "In the healthcare industry, data is becoming increasingly important. Unfortunately, a definition of healthcare analytics is not something that is concretely defined. However, I would define healthcare analytics as the use of advanced computing technology with the ultimate goal of improving medical care. Let's take a closer look at this definition.  \n",
    "\n",
    "### Healthcare analytics uses advanced computing technology  \n",
    "\n",
    "At the time of this posting, we are roughly half-way through the year 2019. The impact that computers have had on our lives has grown exponentially...is showing no signs of slowing as we approach 2020. As we find it nearly impossible to pinpoint an area of our lives that is untouched by computers, tablets, and mobile phones, the healthcare industry is no exception. One of the major changes that we have seen in recent years has been a migration of paper patient charts to electronic health/medical records (EHR or EMR, respectively). Admittedly, much of this transition can be attributed to increased governmental incentives that are offered to providers for doing so. As this is happening, we are seeing a major uptick in various application and programs that are being written to capture demographic information, track vital signs, improve overall efficiency and communication, while taking major strides to improving health care for everyone.  \n",
    "\n",
    "### Healthcare analytics improves medical care  \n",
    "\n",
    "So, how exactly are we using healthcare analytics? The overall goal is to improve medical care. As broad as that seems, the approach has been broken down into three, more palatable, pillars--more commonly referred to as the healthcare triple aim: improving outcomes, reducing costs, and ensuring quality. Let's take a closer look at each of these aims.  \n",
    "\n",
    "#### Better outcomes  \n",
    "Intuitively, we can all relate to better healthcare outcomes. More specifically, better outcomes can include more timely and accurate diagnoses. This could lead to more effective and patient-specific treatments that we hope would not lead to any new infections. With hopes of an overall improved quality of life, despite semantic differences in defining \"improved quality\", we ultimately aim for improved quality and longevity of life free of unnecessary pain and worry.  \n",
    "\n",
    "#### Lower costs  \n",
    "While the goal is to have better health outcomes, unfortunately, there are finite resources trying to address an infinite problem. While various blood tests and orders for imaging can aid providers in the detection and treatment of different ailments, they are often exorbidantly expensive. Using computers, healthcare analytics and data science a patient's medical record could be subject to some mathematical calculaton and a few algorithms to create pretty accurate risk screenings for the different ailments, for far less money!  \n",
    "\n",
    "#### Ensure quality  \n",
    "The data that is constantly being collected and analyzed is not exclusive to patients--providers are also having data related to their performance with their patients collected. The industry is moving away from solely paying providers for specific services, and is instead providing reimbursement that is more performance-based. WE DON'T REALLY CARE HOW MANY PATIENTS YOU CAN SEE IN A DAY...we care more about improving the outcomes of the ones you treat."
   ]
  },
  {
   "cell_type": "markdown",
   "metadata": {},
   "source": [
    "## Where is the practicality?  \n",
    "\n",
    "What does this all look like \"in real life?\" Well, the state of Florida collects emergency department (ED) data each quarter of the year. There is incredibly valuable information in these files. Each quarter contains roughly 2 million encounters (patient visits) and over 100 attributes for each encounter.  \n",
    "  \n",
    "But, having this sort of data can raise (and hopefully begin to answer) several questions.  \n",
    "##### What types of patients are frequenting the ED?  \n",
    "##### When are most of the patients coming (and is that contingent upon payer source or how they arrive at the ED in the first place)?\n",
    "##### Does Ethnicity and Race make a difference?  \n",
    "  \n",
    "\n",
    "I decided to use four quarters for this project--quarters 3 and 4 of 2017 and quarters 1 and 2 of 2018. In the code below, I selected the columns of interest from the entire dataset. Below, I am showing the first 5 rows of the data, to see how the data looks and that the information is in the appropriate format."
   ]
  },
  {
   "cell_type": "code",
   "execution_count": 1,
   "metadata": {
    "scrolled": true
   },
   "outputs": [
    {
     "ename": "ValueError",
     "evalue": "No objects to concatenate",
     "output_type": "error",
     "traceback": [
      "\u001b[0;31m---------------------------------------------------------------------------\u001b[0m",
      "\u001b[0;31mValueError\u001b[0m                                Traceback (most recent call last)",
      "\u001b[0;32m<ipython-input-1-de960a76e911>\u001b[0m in \u001b[0;36m<module>\u001b[0;34m\u001b[0m\n\u001b[1;32m      7\u001b[0m \u001b[0;34m\u001b[0m\u001b[0m\n\u001b[1;32m      8\u001b[0m df = pd.concat([pd.read_csv(f , usecols=['SYS_RECID','ZIPCODE','YEAR','QTR','FAC_REGION','ETHNICITY','RACE','SEX','AGE','WEEKDAY','PTSTATE','PTCOUNTRY','ADMSRC','HR_ARRIVAL','EDHR_DISCH','PT_STATUS','PAYER','REASON_CDE','ATTEN_PHYN'],\n\u001b[0;32m----> 9\u001b[0;31m                             dtype= \"category\") for f in glob.glob('/Users/EricJC/Documents/Data/*.csv')], ignore_index = True, sort=False)\n\u001b[0m\u001b[1;32m     10\u001b[0m \u001b[0mdf\u001b[0m\u001b[0;34m.\u001b[0m\u001b[0mhead\u001b[0m\u001b[0;34m(\u001b[0m\u001b[0;34m)\u001b[0m\u001b[0;34m\u001b[0m\u001b[0;34m\u001b[0m\u001b[0m\n\u001b[1;32m     11\u001b[0m \u001b[0;34m\u001b[0m\u001b[0m\n",
      "\u001b[0;32m~/anaconda3/lib/python3.7/site-packages/pandas/core/reshape/concat.py\u001b[0m in \u001b[0;36mconcat\u001b[0;34m(objs, axis, join, join_axes, ignore_index, keys, levels, names, verify_integrity, sort, copy)\u001b[0m\n\u001b[1;32m    226\u001b[0m                        \u001b[0mkeys\u001b[0m\u001b[0;34m=\u001b[0m\u001b[0mkeys\u001b[0m\u001b[0;34m,\u001b[0m \u001b[0mlevels\u001b[0m\u001b[0;34m=\u001b[0m\u001b[0mlevels\u001b[0m\u001b[0;34m,\u001b[0m \u001b[0mnames\u001b[0m\u001b[0;34m=\u001b[0m\u001b[0mnames\u001b[0m\u001b[0;34m,\u001b[0m\u001b[0;34m\u001b[0m\u001b[0;34m\u001b[0m\u001b[0m\n\u001b[1;32m    227\u001b[0m                        \u001b[0mverify_integrity\u001b[0m\u001b[0;34m=\u001b[0m\u001b[0mverify_integrity\u001b[0m\u001b[0;34m,\u001b[0m\u001b[0;34m\u001b[0m\u001b[0;34m\u001b[0m\u001b[0m\n\u001b[0;32m--> 228\u001b[0;31m                        copy=copy, sort=sort)\n\u001b[0m\u001b[1;32m    229\u001b[0m     \u001b[0;32mreturn\u001b[0m \u001b[0mop\u001b[0m\u001b[0;34m.\u001b[0m\u001b[0mget_result\u001b[0m\u001b[0;34m(\u001b[0m\u001b[0;34m)\u001b[0m\u001b[0;34m\u001b[0m\u001b[0;34m\u001b[0m\u001b[0m\n\u001b[1;32m    230\u001b[0m \u001b[0;34m\u001b[0m\u001b[0m\n",
      "\u001b[0;32m~/anaconda3/lib/python3.7/site-packages/pandas/core/reshape/concat.py\u001b[0m in \u001b[0;36m__init__\u001b[0;34m(self, objs, axis, join, join_axes, keys, levels, names, ignore_index, verify_integrity, copy, sort)\u001b[0m\n\u001b[1;32m    260\u001b[0m \u001b[0;34m\u001b[0m\u001b[0m\n\u001b[1;32m    261\u001b[0m         \u001b[0;32mif\u001b[0m \u001b[0mlen\u001b[0m\u001b[0;34m(\u001b[0m\u001b[0mobjs\u001b[0m\u001b[0;34m)\u001b[0m \u001b[0;34m==\u001b[0m \u001b[0;36m0\u001b[0m\u001b[0;34m:\u001b[0m\u001b[0;34m\u001b[0m\u001b[0;34m\u001b[0m\u001b[0m\n\u001b[0;32m--> 262\u001b[0;31m             \u001b[0;32mraise\u001b[0m \u001b[0mValueError\u001b[0m\u001b[0;34m(\u001b[0m\u001b[0;34m'No objects to concatenate'\u001b[0m\u001b[0;34m)\u001b[0m\u001b[0;34m\u001b[0m\u001b[0;34m\u001b[0m\u001b[0m\n\u001b[0m\u001b[1;32m    263\u001b[0m \u001b[0;34m\u001b[0m\u001b[0m\n\u001b[1;32m    264\u001b[0m         \u001b[0;32mif\u001b[0m \u001b[0mkeys\u001b[0m \u001b[0;32mis\u001b[0m \u001b[0;32mNone\u001b[0m\u001b[0;34m:\u001b[0m\u001b[0;34m\u001b[0m\u001b[0;34m\u001b[0m\u001b[0m\n",
      "\u001b[0;31mValueError\u001b[0m: No objects to concatenate"
     ]
    }
   ],
   "source": [
    "import pandas as pd\n",
    "import numpy as np\n",
    "import glob\n",
    "import math\n",
    "import matplotlib.pyplot as plt\n",
    "import seaborn as sns\n",
    "\n",
    "df = pd.concat([pd.read_csv(f , usecols=['SYS_RECID','ZIPCODE','YEAR','QTR','FAC_REGION','ETHNICITY','RACE','SEX','AGE','WEEKDAY','PTSTATE','PTCOUNTRY','ADMSRC','HR_ARRIVAL','EDHR_DISCH','PT_STATUS','PAYER','REASON_CDE','ATTEN_PHYN'],\n",
    "                            dtype= \"category\") for f in glob.glob('/Users/EricJC/Documents/Data/*.csv')], ignore_index = True, sort=False)\n",
    "df.head()\n",
    "\n"
   ]
  },
  {
   "cell_type": "code",
   "execution_count": 13,
   "metadata": {},
   "outputs": [],
   "source": [
    "import pandas as pd\n",
    "import numpy as np\n",
    "import math\n",
    "import matplotlib.pyplot as plt\n",
    "import seaborn as sns\n",
    "\n",
    "file = '/Users/ericchiyembekeza/Desktop/Data/17Q3-pt1.csv'\n",
    "df = pd.read_csv(file)"
   ]
  },
  {
   "cell_type": "code",
   "execution_count": 14,
   "metadata": {},
   "outputs": [
    {
     "data": {
      "text/plain": [
       "Index(['SYS_RECID', 'YEAR', 'QTR', 'FACLNBR', 'MCARE_NBR', 'TYPE_SERV',\n",
       "       'SERV_LOC', 'PRO_CODE', 'FAC_REGION', 'FAC_COUNTY', 'ETHNICITY', 'RACE',\n",
       "       'SEX', 'AGE', 'LOSDAYS', 'WEEKDAY', 'ZIPCODE', 'PTCOUNTY', 'PTSTATE',\n",
       "       'PTCOUNTRY', 'ADMSRC', 'HR_ARRIVAL', 'EDHR_DISCH', 'PT_STATUS', 'PAYER',\n",
       "       'REASON_CDE', 'EVALCODE1', 'EVALCODE2', 'EVALCODE3', 'EVALCODE4',\n",
       "       'EVALCODE5', 'OTHCPT1', 'OTHCPT2', 'OTHCPT3', 'OTHCPT4', 'OTHCPT5',\n",
       "       'OTHCPT6', 'OTHCPT7', 'OTHCPT8', 'OTHCPT9', 'OTHCPT10', 'OTHCPT11',\n",
       "       'OTHCPT12', 'OTHCPT13', 'OTHCPT14', 'OTHCPT15', 'OTHCPT16', 'OTHCPT17',\n",
       "       'OTHCPT18', 'OTHCPT19', 'OTHCPT20', 'OTHCPT21', 'OTHCPT22', 'OTHCPT23',\n",
       "       'OTHCPT24', 'OTHCPT25', 'OTHCPT26', 'OTHCPT27', 'OTHCPT28', 'OTHCPT29',\n",
       "       'OTHCPT30', 'PRINDIAG', 'OTHDIAG1', 'OTHDIAG2', 'OTHDIAG3', 'OTHDIAG4',\n",
       "       'OTHDIAG5', 'OTHDIAG6', 'OTHDIAG7', 'OTHDIAG8', 'OTHDIAG9', 'ECMORB1',\n",
       "       'ECMORB2', 'ECMORB3', 'PRINPROC', 'OTHPROC1', 'OTHPROC2', 'OTHPROC3',\n",
       "       'OTHPROC4', 'ATTEN_PHYI', 'ATTEN_PHYN', 'OPER_PHYID', 'OPER_PHYNP',\n",
       "       'OTHOPER_PH', 'OTHOPER__A', 'PHARMCHGS', 'MEDCHGS', 'LABCHGS',\n",
       "       'RADCHGS', 'CARDIOCHGS', 'OPRMCHGS', 'ANESCHGS', 'RECOVCHGS', 'ERCHGS',\n",
       "       'TRAUMACHGS', 'OBSERCHGS', 'GASTROCHGS', 'LITHOCHGS', 'OTHCHGS',\n",
       "       'TCHGS'],\n",
       "      dtype='object')"
      ]
     },
     "execution_count": 14,
     "metadata": {},
     "output_type": "execute_result"
    }
   ],
   "source": [
    "df.columns"
   ]
  },
  {
   "cell_type": "code",
   "execution_count": 18,
   "metadata": {},
   "outputs": [
    {
     "data": {
      "text/plain": [
       "11212"
      ]
     },
     "execution_count": 18,
     "metadata": {},
     "output_type": "execute_result"
    }
   ],
   "source": [
    "df['ZIPCODE'].nunique()"
   ]
  },
  {
   "cell_type": "code",
   "execution_count": 19,
   "metadata": {},
   "outputs": [],
   "source": [
    "import pandas_profiling"
   ]
  },
  {
   "cell_type": "code",
   "execution_count": 21,
   "metadata": {},
   "outputs": [
    {
     "data": {
      "text/plain": [
       "<bound method profile_report of         SYS_RECID  YEAR  QTR  FACLNBR  MCARE_NBR  TYPE_SERV SERV_LOC  \\\n",
       "0        92410700  2017    3   120005     100012          2      NaN   \n",
       "1        92410701  2017    3   120005     100012          2      NaN   \n",
       "2        92410702  2017    3   120005     100012          2      NaN   \n",
       "3        92410703  2017    3   120005     100012          2      NaN   \n",
       "4        92410704  2017    3   120005     100012          2      NaN   \n",
       "5        92410705  2017    3   120005     100012          2      NaN   \n",
       "6        92410706  2017    3   120005     100012          2      NaN   \n",
       "7        92410707  2017    3   120005     100012          2      NaN   \n",
       "8        92410708  2017    3   120005     100012          2      NaN   \n",
       "9        92410709  2017    3   120005     100012          2      NaN   \n",
       "10       92410710  2017    3   120005     100012          2      NaN   \n",
       "11       92410711  2017    3   120005     100012          2      NaN   \n",
       "12       92410712  2017    3   120005     100012          2      NaN   \n",
       "13       92410713  2017    3   120005     100012          2      NaN   \n",
       "14       92410714  2017    3   120005     100012          2      NaN   \n",
       "15       92410715  2017    3   120005     100012          2      NaN   \n",
       "16       92410716  2017    3   120005     100012          2      NaN   \n",
       "17       92410717  2017    3   120005     100012          2      NaN   \n",
       "18       92410718  2017    3   120005     100012          2      NaN   \n",
       "19       92410719  2017    3   120005     100012          2      NaN   \n",
       "20       92410720  2017    3   120005     100012          2      NaN   \n",
       "21       92410721  2017    3   120005     100012          2      NaN   \n",
       "22       92410722  2017    3   120005     100012          2      NaN   \n",
       "23       92410723  2017    3   120005     100012          2      NaN   \n",
       "24       92410724  2017    3   120005     100012          2      NaN   \n",
       "25       92410725  2017    3   120005     100012          2      NaN   \n",
       "26       92410726  2017    3   120005     100012          2      NaN   \n",
       "27       92410727  2017    3   120005     100012          2      NaN   \n",
       "28       92410728  2017    3   120005     100012          2      NaN   \n",
       "29       92410729  2017    3   120005     100012          2      NaN   \n",
       "...           ...   ...  ...      ...        ...        ...      ...   \n",
       "999970   96048306  2017    3   111527          0          2      NaN   \n",
       "999971   96048307  2017    3   111527          0          2      NaN   \n",
       "999972   96048308  2017    3   111527          0          2      NaN   \n",
       "999973   96048309  2017    3   111527          0          2      NaN   \n",
       "999974   96048310  2017    3   111527          0          2      NaN   \n",
       "999975   96048311  2017    3   111527          0          2      NaN   \n",
       "999976   96048312  2017    3   111527          0          2      NaN   \n",
       "999977   96048313  2017    3   111527          0          2      NaN   \n",
       "999978   96048314  2017    3   111527          0          2      NaN   \n",
       "999979   96048315  2017    3   111527          0          2      NaN   \n",
       "999980   96048316  2017    3   111527          0          2      NaN   \n",
       "999981   96048317  2017    3   111527          0          2      NaN   \n",
       "999982   96048318  2017    3   111527          0          2      NaN   \n",
       "999983   96048319  2017    3   111527          0          2      NaN   \n",
       "999984   96048320  2017    3   111527          0          2      NaN   \n",
       "999985   96048321  2017    3   111527          0          2      NaN   \n",
       "999986   96048322  2017    3   111527          0          2      NaN   \n",
       "999987   96048323  2017    3   111527          0          2      NaN   \n",
       "999988   96048324  2017    3   111527          0          2      NaN   \n",
       "999989   96048325  2017    3   111527          0          2      NaN   \n",
       "999990   96048326  2017    3   111527          0          2      NaN   \n",
       "999991   96048327  2017    3   111527          0          2      NaN   \n",
       "999992   96048328  2017    3   111527          0          2      NaN   \n",
       "999993   96048329  2017    3   111527          0          2      NaN   \n",
       "999994   96048330  2017    3   111527          0          2      NaN   \n",
       "999995   96048331  2017    3   111527          0          2      NaN   \n",
       "999996   96048332  2017    3   111527          0          2      NaN   \n",
       "999997   96048333  2017    3   111527          0          2      NaN   \n",
       "999998   96048334  2017    3   111527          0          2      NaN   \n",
       "999999   96048335  2017    3   111527          0          2      NaN   \n",
       "\n",
       "        PRO_CODE  FAC_REGION  FAC_COUNTY  ... OPRMCHGS  ANESCHGS RECOVCHGS  \\\n",
       "0             23           8          36  ...        0         0         0   \n",
       "1             23           8          36  ...        0         0         0   \n",
       "2             23           8          36  ...        0         0         0   \n",
       "3             23           8          36  ...        0         0         0   \n",
       "4             23           8          36  ...        0         0         0   \n",
       "5             23           8          36  ...        0         0         0   \n",
       "6             23           8          36  ...        0         0         0   \n",
       "7             23           8          36  ...        0         0         0   \n",
       "8             23           8          36  ...        0         0         0   \n",
       "9             23           8          36  ...        0         0         0   \n",
       "10            23           8          36  ...        0         0         0   \n",
       "11            23           8          36  ...        0         0         0   \n",
       "12            23           8          36  ...        0         0         0   \n",
       "13            23           8          36  ...      632         0         0   \n",
       "14            23           8          36  ...        0         0         0   \n",
       "15            23           8          36  ...        0         0         0   \n",
       "16            23           8          36  ...        0         0         0   \n",
       "17            23           8          36  ...        0         0         0   \n",
       "18            23           8          36  ...        0         0         0   \n",
       "19            23           8          36  ...        0         0         0   \n",
       "20            23           8          36  ...        0         0         0   \n",
       "21            23           8          36  ...        0         0         0   \n",
       "22            23           8          36  ...        0         0         0   \n",
       "23            23           8          36  ...        0         0         0   \n",
       "24            23           8          36  ...        0         0         0   \n",
       "25            23           8          36  ...        0         0         0   \n",
       "26            23           8          36  ...        0         0         0   \n",
       "27            23           8          36  ...        0         0         0   \n",
       "28            23           8          36  ...        0         0         0   \n",
       "29            23           8          36  ...        0         0         0   \n",
       "...          ...         ...         ...  ...      ...       ...       ...   \n",
       "999970        23          10           6  ...        0         0         0   \n",
       "999971        23          10           6  ...        0         0         0   \n",
       "999972        23          10           6  ...        0         0         0   \n",
       "999973        23          10           6  ...        0         0         0   \n",
       "999974        23          10           6  ...        0         0         0   \n",
       "999975        23          10           6  ...        0         0         0   \n",
       "999976        23          10           6  ...        0         0         0   \n",
       "999977        23          10           6  ...        0         0         0   \n",
       "999978        23          10           6  ...        0         0         0   \n",
       "999979        23          10           6  ...        0         0         0   \n",
       "999980        23          10           6  ...        0         0         0   \n",
       "999981        23          10           6  ...        0         0         0   \n",
       "999982        23          10           6  ...        0         0         0   \n",
       "999983        23          10           6  ...        0         0         0   \n",
       "999984        23          10           6  ...        0         0         0   \n",
       "999985        23          10           6  ...        0         0         0   \n",
       "999986        23          10           6  ...        0         0         0   \n",
       "999987        23          10           6  ...        0         0         0   \n",
       "999988        23          10           6  ...        0         0         0   \n",
       "999989        23          10           6  ...        0         0         0   \n",
       "999990        23          10           6  ...        0         0         0   \n",
       "999991        23          10           6  ...        0         0         0   \n",
       "999992        23          10           6  ...        0         0         0   \n",
       "999993        23          10           6  ...        0         0         0   \n",
       "999994        23          10           6  ...        0         0         0   \n",
       "999995        23          10           6  ...        0         0         0   \n",
       "999996        23          10           6  ...        0         0         0   \n",
       "999997        23          10           6  ...        0         0         0   \n",
       "999998        23          10           6  ...        0         0         0   \n",
       "999999        23          10           6  ...        0         0         0   \n",
       "\n",
       "        ERCHGS  TRAUMACHGS  OBSERCHGS  GASTROCHGS  LITHOCHGS OTHCHGS  TCHGS  \n",
       "0         2752           0       5970           0          0    3712  24951  \n",
       "1          972           0          0           0          0       0   1014  \n",
       "2         2752           0          0           0          0     430   4034  \n",
       "3         1458           0          0           0          0     430   2772  \n",
       "4         2752           0       2071           0          0    2191   9740  \n",
       "5         2752           0          0           0          0     407  15210  \n",
       "6         2752           0          0           0          0     447   3306  \n",
       "7         4048           0          0           0          0    1330   6249  \n",
       "8         1458           0          0           0          0     642  13719  \n",
       "9         1458           0          0           0          0       0   2586  \n",
       "10        5136           0        330           0          0     942  19463  \n",
       "11        4048           0          0           0          0    1112   5406  \n",
       "12        1232           0          0           0          0       0   1232  \n",
       "13        1458           0          0           0          0       0   3541  \n",
       "14         972           0          0           0          0       0    972  \n",
       "15         972           0          0           0          0       0    972  \n",
       "16        2752           0          0           0          0     214   3210  \n",
       "17        2752           0          0           0          0     430   3917  \n",
       "18        4048           0       1894           0          0    2993  32069  \n",
       "19        4048           0          0           0          0     877   6071  \n",
       "20        5542           0       1329           0          0    1804  21345  \n",
       "21        1458           0          0           0          0       0   2221  \n",
       "22        1458           0          0           0          0       0   1458  \n",
       "23         972           0          0           0          0       0    972  \n",
       "24         972           0          0           0          0       0   1006  \n",
       "25        2752           0        825           0          0    3516  16937  \n",
       "26        2752           0          0           0          0     430   3882  \n",
       "27        1458           0          0           0          0     430   2586  \n",
       "28        1148           0          0           0          0     879   2908  \n",
       "29        2752           0          0           0          0       0   3142  \n",
       "...        ...         ...        ...         ...        ...     ...    ...  \n",
       "999970     477           0          0           0          0       0    561  \n",
       "999971     361           0          0           0          0       0    361  \n",
       "999972     476           0          0           0          0     426   3760  \n",
       "999973     792           0          0           0          0     426   1509  \n",
       "999974    1159           0       1190           0          0     426  16881  \n",
       "999975     361           0          0           0          0       0    974  \n",
       "999976     477           0          0           0          0       0    512  \n",
       "999977     795           0       1904           0          0       0  16064  \n",
       "999978     361           0          0           0          0       0    868  \n",
       "999979     791           0          0           0          0     606   2435  \n",
       "999980     361           0          0           0          0       0    773  \n",
       "999981     476           0          0           0          0       0    756  \n",
       "999982     279           0          0           0          0       0    279  \n",
       "999983     477           0          0           0          0       0   1554  \n",
       "999984     791           0          0           0          0     426   3537  \n",
       "999985     791           0       2380           0          0     706  10614  \n",
       "999986     793           0          0           0          0       1   5258  \n",
       "999987    1157           0       6902           0          0    2210  39490  \n",
       "999988     318           0          0           0          0       0    318  \n",
       "999989     791           0          0           0          0     426   3616  \n",
       "999990     792           0          0           0          0       0    865  \n",
       "999991     476           0          0           0          0       0   4587  \n",
       "999992     361           0          0           0          0       0    381  \n",
       "999993    1318           0          0           0          0     413   9245  \n",
       "999994     361           0          0           0          0       0    373  \n",
       "999995     791           0          0           0          0       1  11299  \n",
       "999996    1158           0       4879           0          0     426  12202  \n",
       "999997     791           0          0           0          0     628   4159  \n",
       "999998     362           0          0           0          0       0    362  \n",
       "999999     318           0          0           0          0       0    318  \n",
       "\n",
       "[1000000 rows x 100 columns]>"
      ]
     },
     "execution_count": 21,
     "metadata": {},
     "output_type": "execute_result"
    }
   ],
   "source": [
    "df.profile_report"
   ]
  },
  {
   "cell_type": "markdown",
   "metadata": {},
   "source": [
    "Ultimately, with this particular project, I was interested in the characteristics of the individuals whom presented to the ED for a diagnosis related to opioid overdose/abuse. Those specific dx codes are shown below. I thought that it would also be interesting to see if there was a difference in the time of day that the patients presented to the ED. For the first analysis, I maintained the format of the hours of arrival (from 00 to 23). For later analysis, I adjusted the format of the time of arrival to reflect late/early. Late would be from 8pm until 8am (basically non-business hours), while early is everything else."
   ]
  },
  {
   "cell_type": "code",
   "execution_count": null,
   "metadata": {},
   "outputs": [],
   "source": [
    "def is_opioid_dx(opioid_dx):\n",
    "    if opioid_dx in ['F11.10','F11.120','F11.121',\n",
    "'F11.122','F11.129','F11.14','F11.150','F11.151','F11.159','F11.181','F11.182','F11.188',\n",
    "'F11.19','F11.20','F11.220','F11.221','F11.222','F11.229','F11.23','F11.24','F11.250',\n",
    "'F11.251','F11.259','F11.281','F11.282','F11.288','F11.29','F11.90','F11.920','F11.921',\n",
    "'F11.922','F11.929','F11.93','F11.94','F11.950','F11.951','F11.959','F11.981','F11.982',\n",
    "'F11.988','F11.99','T40.0X1A','T40.0X1D','T40.0X1S','T40.0X4A','T40.0X4D','T40.0X4S',\n",
    "'T40.0X5A','T40.0X5D','T40.0X5S','T40.1X1A','T40.1X1D','T40.1X1S','T40.1X4A','T40.1X4D',\n",
    "'T40.1X4S','T40.2X1A','T40.2X1D','T40.2X1S','T40.2X4A','T40.2X4D','T40.2X4S','T40.2X5A',\n",
    "'T40.2X5D','T40.2X5S','T40.3X1A','T40.3X1D','T40.3X1S','T40.3X4A','T40.3X4D','T40.3X4S',\n",
    "'T40.3X5A','T40.3X5D','T40.3X5S','T40.4X1A','T40.4X1D','T40.4X1S','T40.4X4A','T40.4X4D',\n",
    "'T40.4X4S','T40.4X5A','T40.4X5D','T40.4X5S','T40.601A','T40.601D','T40.601S','T40.604A',\n",
    "'T40.604D','T40.604S','T40.605A','T40.605D','T40.605S','T40.691A','T40.691D','T40.691S',\n",
    "'T40.694A','T40.694D','T40.694S','T40.695A','T40.695D','T40.695S','T40.0X2A','T40.0X2D',\n",
    "'T40.0X2S','T40.0X3A','T40.0X3D','T40.0X3S','T40.1X2A','T40.1X2D','T40.1X2S','T40.1X3A',\n",
    "'T40.1X3D','T40.1X3S','T40.2X2A','T40.2X2D','T40.2X2S','T40.2X3A','T40.2X3D','T40.2X3S',\n",
    "'T40.3X2A','T40.3X2D','T40.3X2S','T40.3X3A','T40.3X3D','T40.3X3S','T40.4X2A','T40.4X2D',\n",
    "'T40.4X2S','T40.4X3A','T40.4X3D','T40.4X3S','T40.602A','T40.602D','T40.602S','T40.603A',\n",
    "'T40.603D','T40.603S','T40.692A','T40.692D','T40.692S','T40.693A','T40.693D','T40.693S']:\n",
    "        return 1\n",
    "    else:\n",
    "        return 0\n",
    "df['REASON_CDE_01'] = df['REASON_CDE'].apply(is_opioid_dx).astype('category')\n",
    "\n",
    "def is_night(arrtime):\n",
    "    arrtime_int = int(arrtime)\n",
    "    if ((arrtime_int >= 0) & (arrtime_int < 8)):\n",
    "        return 1\n",
    "    elif ((arrtime_int >= 20) & (arrtime_int < 23)):\n",
    "        return 1\n",
    "    else:\n",
    "        return 0\n",
    "df['HR_ARRIVAL_01'] = df['HR_ARRIVAL'].apply(is_night).astype('category')\n",
    "\n",
    "df['AGE'] = df['AGE'].astype(int)\n",
    "def roundup(x, n=10):\n",
    "    res = math.ceil(x/n)*n\n",
    "    if (x%n < n/2)and (x%n>0):\n",
    "        res-=n\n",
    "    return res\n",
    "\n",
    "num = df['AGE']\n",
    "df['AGES'] = [roundup(n) for n in num]\n",
    "df['AGES'] = df['AGES'].astype('category')\n",
    "\n",
    "\n",
    "    "
   ]
  },
  {
   "cell_type": "code",
   "execution_count": null,
   "metadata": {},
   "outputs": [],
   "source": [
    "df_cat = df.select_dtypes(include=['category']).copy()\n",
    "df_cat['FAC_REGION'] = df_cat['FAC_REGION'].cat.codes\n",
    "df_cat['ETHNICITY'] = df_cat['ETHNICITY'].cat.codes\n",
    "df_cat['RACE'] = df_cat['RACE'].cat.codes\n",
    "df_cat['SEX'] = df_cat['SEX'].cat.codes\n",
    "df_cat['WEEKDAY'] = df_cat['WEEKDAY'].cat.codes\n",
    "df_cat['EDHR_DISCH'] = df_cat['EDHR_DISCH'].cat.codes\n",
    "df_cat['PT_STATUS'] = df_cat['PT_STATUS'].cat.codes\n",
    "df_cat['PAYER'] = df_cat['PAYER'].cat.codes"
   ]
  },
  {
   "cell_type": "markdown",
   "metadata": {},
   "source": [
    "## Boxplot of Ages of Patients Grouped by Sex\n",
    "Below is a boxplot that is showing the distribution of ages of the patients presenting to the emergency departments grouped by sex. It is important to note that the data included values that would be considered outliers by this plot. Patients who are:   \n",
    "    Age 0 = 0 to 28 days  \n",
    "    Age 777 = 29 to 364 days (considered an outlier)  \n",
    "    Age 888 = 100 years and older (considered an outlier)  \n",
    "    Age 999 = Unknown (considered an outlier)  \n",
    "However, for the purposes of this plot, those data points did not add any real value and were dropped from the plot.  "
   ]
  },
  {
   "cell_type": "code",
   "execution_count": null,
   "metadata": {},
   "outputs": [],
   "source": [
    "age_boxplot = df.boxplot('AGE','SEX', rot=30, figsize=(5,6), showfliers=False)"
   ]
  },
  {
   "cell_type": "markdown",
   "metadata": {},
   "source": [
    "From the plot above, we are able to see that there are some subtle differences between the ages of the females and the males presenting in the ED. While the median age (50% of the data) is the same for both females and males, there is a bit of a difference between quartile 1 (25% of the data) between the classes. For females, we see that Q1 is at age 21, while in the male group it is much sooner at 17. Also, the maximum age for both females and males showed differences. The oldest female that went to the ED was 108 years-old, while the oldest male was 116 years-old. (It is important to remember that outliers were removed from the plot.)"
   ]
  },
  {
   "cell_type": "markdown",
   "metadata": {},
   "source": [
    "## Boxplot of Patients Grouped by Payer Against Hr of Arrival  \n",
    "Below is a boxplot that is showing the distribution of the time (hours) of the of the patients presenting to the emergency departments grouped by their respective payer source. The list of the different payer codes are below:   \n",
    "\n",
    "A single character upper case alpha code identifying the expected primary source of reimbursement for services rendered based on the patient’s status at the time of reporting. This was a required entry.  \n",
    "A – Medicare  \n",
    "B – Medicare Managed Care  \n",
    "C – Medicaid  \n",
    "D – Medicaid Managed Care  \n",
    "E – Commercial Health Insurance  \n",
    "H – Workers’ Compensation  \n",
    "I – TriCare or Other Federal Government    \n",
    "J – VA  \n",
    "K – Other State/Local Government  \n",
    "L – Self Pay – Patients with no insurance coverage  \n",
    "M – Other  \n",
    "N – Non-Payment – Includes charity, professional courtesy, no charge, research/clinical trial, refusal to pay.  \n",
    "O – Kidcare - Includes Healthy Kids, Medikids, and Children’s Medical Services  \n",
    "P – Unknown   \n",
    "Q – Commercial Liability Coverage  "
   ]
  },
  {
   "cell_type": "code",
   "execution_count": null,
   "metadata": {},
   "outputs": [],
   "source": [
    "df['HR_ARRIVAL'] = df['HR_ARRIVAL'].astype(int)\n",
    "time_payer_boxplot = df.boxplot('HR_ARRIVAL','PAYER', rot=45, figsize=(9,6), showfliers=False)"
   ]
  },
  {
   "cell_type": "markdown",
   "metadata": {},
   "source": [
    "With this particular chart, a difference was not expecting between minimum values or the maximum values as it related to the payer source. It seems intuitive that patients, regardless of their insurance status, would come at any hour throughout the day. Interestingly, there were no patient encounters in the ED between the hours of 12am and 1am for patients with Commercial Liability Coverage.  \n",
    "  \n",
    "It is also interesting that patients with Kidcare (O on the plot), Unknown (P on the plot), and Commercial Liability Coverage (Q on the plot) all showed a Q1 (25% of the data) closer to noon, while all of the others were at 10am. The same three groups, with the addition of Medicaid Managed Care (D on the plot), also showed significantly higher medians than the other payers. They are all showing a median time of arrival of 3pm and later.    \n",
    "  \n",
    "It would be interesting to delve a bit deeper into this. With Kidcare, Medicaid Managed Care, and Unknown, there may be some lifestyle characteristics that play a role in this. These individuals are likely lower income (based on the requirements for Florida's Medicaid), which may provide a foundation for researching the types of jobs these patients have. 3pm is also around the time that most schools have dismissed their students.  \n",
    "  \n",
    "There are a lot of speculations that can be made, but this is definitely something that should be explored further."
   ]
  },
  {
   "cell_type": "markdown",
   "metadata": {},
   "source": [
    "## Boxplot of Patients Grouped by Admission Source Against Hr of Arrival  \n",
    "  \n",
    "This was not a self-reported field, but contains a two digit code or one character alpha code. The admission source provides us with information about where the patient came from prior to reaching the ED. The codes are:  \n",
    "\n",
    "01 – Non-health care facility point of origin  \n",
    "02 – Clinic or Physician’s Office  \n",
    "04 – Transfer from another Hospital  \n",
    "05 – Transfer from a Skilled Nursing Facility (SNF) or Intermediate Care Facility (ICF)  \n",
    "06 – Transfer from another health care facility  \n",
    "08 – Court/Law Enforcement  \n",
    "09 – Information Not Available  \n",
    "D – Transfer between units within the same hospital  \n",
    "E – Transfer from Ambulatory Surgery Center  \n",
    "F – Transfer from hospice and under a hospice plan of care or enrolled in a hospice program  \n",
    "\n"
   ]
  },
  {
   "cell_type": "code",
   "execution_count": null,
   "metadata": {},
   "outputs": [],
   "source": [
    "time_admsrc_boxplot = df.boxplot('HR_ARRIVAL','ADMSRC', rot=45, figsize=(9,6), showfliers=False)"
   ]
  },
  {
   "cell_type": "markdown",
   "metadata": {},
   "source": [
    "The plot above shows a couple of things that are interesting. Other hospitals and law enforcement have the largest spread of times that they are the source of patients going to the ED. This seems logical, as they are the sites that are \"fully operational\" during more hours of the day."
   ]
  },
  {
   "cell_type": "markdown",
   "metadata": {},
   "source": [
    "## Bar Chart With Count of Patients Grouped by Ethinicity and Race  \n",
    "Self designated by the patient or patient’s parent or guardian. The patient’s ethnic background shall be reported as one choice from the following list of alternatives. This was a required entry.  \n",
    "E1 – Hispanic or Latino. A person of Mexican, Puerto Rican, Cuban, Central or South American or other Spanish culture or origin, regardless of race.  \n",
    "E2 – Non-Hispanic or Latino. A person not of any Spanish culture or origin.  \n",
    "E7 – Unknown  \n",
    "Self designated by the patient or patient’s parent or guardian. A single digit code identifying the patient’s racial background. Like Ethnicity, this was also a required entry.  \n",
    "1 – American Indian or Alaskan Native  \n",
    "2 – Asian  \n",
    "3 – Black or African American  \n",
    "4 – Native Hawaiian or Other Pacific Islander  \n",
    "5 – White  \n",
    "6 – Other  \n",
    "7 – Unknown  "
   ]
  },
  {
   "cell_type": "code",
   "execution_count": null,
   "metadata": {},
   "outputs": [],
   "source": [
    "eth_race = df.groupby(['ETHNICITY', 'RACE']).size()\n",
    "eth_race.plot(kind='bar', width=1)"
   ]
  },
  {
   "cell_type": "markdown",
   "metadata": {},
   "source": [
    "This chart is showing a basic breakdown of the number of patients presenting to the ED grouped by their respective Ethinicity and Race. The group that was the highest utilizer of the ED during the observed time period, were patients who identified as non-Hispanic, White. The second highest utilizer, were patients who identified as non-Hispanic, Black or African-American.  \n",
    "  \n",
    "I think it would be useful to compare ED utilization rates of these particular groups as it compares to their overall representation in the state of Florida. (As an example, if non-Hispanic, Whites make up 80% of the population in Florida, and they are 80% of the utilization...this behavior would be expected.)"
   ]
  },
  {
   "cell_type": "markdown",
   "metadata": {},
   "source": [
    "## Bar Chart With Count of Patients Grouped by Ages (in Decades)  "
   ]
  },
  {
   "cell_type": "code",
   "execution_count": null,
   "metadata": {},
   "outputs": [],
   "source": [
    "x_age = df['AGES'].unique()\n",
    "age_count =  df['AGES'].value_counts()\n",
    "\n",
    "plt.bar(x_age, age_count, align='center', width=5, alpha=1)\n",
    "plt.xticks(x_age)\n",
    "plt.ylabel('Count')\n",
    "plt.title('Ages of ED Patients')\n",
    "plt.xlim(right=100, left=-5)\n",
    "plt.show()"
   ]
  },
  {
   "cell_type": "markdown",
   "metadata": {},
   "source": [
    "The chart above shows that highest utilizers of the ED in the state of Florida are between the ages of 40 and 49. The second highest utilizers are patients between the ages of 90 and 99, and the third highest utilizers being between the ages 20 and 29."
   ]
  },
  {
   "cell_type": "markdown",
   "metadata": {},
   "source": [
    "## Pairplot of a Subset of the Data  \n",
    "  \n",
    "This visualization can be useful when trying to determine if there are any correlations that exist in your dataset between all of the features. Because much of the data is discrete, we are not really seeing any apparent correlations in our dataset.\n"
   ]
  },
  {
   "cell_type": "code",
   "execution_count": null,
   "metadata": {
    "scrolled": false
   },
   "outputs": [],
   "source": [
    "sns.pairplot(df_cat.sample(10000))"
   ]
  },
  {
   "cell_type": "markdown",
   "metadata": {},
   "source": [
    "## Beginnings of Machine Learning  \n",
    "  \n",
    "Below, we have taken the dataset and split it into two different groups (Train and Test) to train a couple of different Machine Learning models and test them. The \"target\" or \"response\" variable that will be used in these models is the Reason Code (or the Diagnosis given to the patient upon arrival). I am ultimately interested in determining what features are a good predictor of whether a patient will present to the ED for a reason related to opiod overdose/abuse. Below is some of the code for reference."
   ]
  },
  {
   "cell_type": "code",
   "execution_count": null,
   "metadata": {},
   "outputs": [],
   "source": [
    "from numpy import array\n",
    "from numpy import argmax\n",
    "from sklearn.preprocessing import LabelEncoder\n",
    "from sklearn.preprocessing import OneHotEncoder\n"
   ]
  },
  {
   "cell_type": "code",
   "execution_count": null,
   "metadata": {},
   "outputs": [],
   "source": [
    "def split_target(data, target_name):\n",
    "       target = data[[target_name]]\n",
    "       data.drop(target_name, axis=1, inplace=True)\n",
    "       return (data, target)\n",
    "X, y = split_target(df_cat, 'REASON_CDE_01')"
   ]
  },
  {
   "cell_type": "code",
   "execution_count": null,
   "metadata": {},
   "outputs": [],
   "source": [
    "from sklearn.model_selection import train_test_split\n",
    "X_train, X_test, y_train, y_test = train_test_split(X, y, test_size=0.25, random_state=42)"
   ]
  },
  {
   "cell_type": "code",
   "execution_count": null,
   "metadata": {},
   "outputs": [],
   "source": [
    "#Just to check...\n",
    "print(y_train.groupby('REASON_CDE_01').size())"
   ]
  },
  {
   "cell_type": "code",
   "execution_count": null,
   "metadata": {},
   "outputs": [],
   "source": [
    "X_train = pd.get_dummies(X_train)\n",
    "X_test = pd.get_dummies(X_test)"
   ]
  },
  {
   "cell_type": "code",
   "execution_count": null,
   "metadata": {},
   "outputs": [],
   "source": [
    "X_train.loc[:] = X_train.loc[:].apply(pd.to_numeric)\n",
    "X_test.loc[:] = X_test.loc[:].apply(pd.to_numeric)"
   ]
  },
  {
   "cell_type": "code",
   "execution_count": null,
   "metadata": {},
   "outputs": [],
   "source": [
    "X_train_cols = X_train.columns\n",
    "X_test_cols = X_test.columns"
   ]
  },
  {
   "cell_type": "code",
   "execution_count": null,
   "metadata": {},
   "outputs": [],
   "source": [
    "X_train = X_train.values\n",
    "X_test = X_test.values"
   ]
  },
  {
   "cell_type": "markdown",
   "metadata": {},
   "source": [
    "### Logistic Regression model for the data  \n",
    "  \n",
    "First, let's discuss the performance of the training and testing sets. They are close together, which suggests the model did not overfit to the training set. The accuracy is approximately 99.8%.  \n",
    "  \n",
    "Looking at the coefficients, we can confirm that they are aligned with what our other visualizations have shown and  make intuitive sense. The features with the highest coefficient are related to the age of the person going to the ED. Ethnicity also had a relatively high coefficient. Unfortunately, the dataset that was used to train and test these models did not contain all of the features of the original dataset. With that, the information is limited in its usefulness. "
   ]
  },
  {
   "cell_type": "code",
   "execution_count": null,
   "metadata": {},
   "outputs": [],
   "source": [
    "from sklearn.linear_model import LogisticRegression\n",
    "\n",
    "clfs = [LogisticRegression()]\n",
    "for clf in clfs:\n",
    "    clf.fit(X_train, y_train.values.ravel())\n",
    "    print(type(clf))\n",
    "    print('Training accuracy: ' + str(clf.score(X_train, y_train)))\n",
    "    print('Validation accuracy: ' + str(clf.score(X_test, y_test)))\n",
    "    coefs = {\n",
    "        'column': [X_train_cols[i] for i in range(len(X_train_cols))],\n",
    "        'coef': [clf.coef_[0,i] for i in range(len(X_train_cols))]\n",
    "       }\n",
    "    df_coefs = pd.DataFrame(coefs)\n",
    "    print(df_coefs.sort_values('coef', axis=0, ascending=False))\n"
   ]
  },
  {
   "cell_type": "markdown",
   "metadata": {},
   "source": [
    "### Random Forest model  \n",
    "  \n",
    "With this model, the accuracy is 99.8%. Unlike the logistic regression, this model is showing other features may be related to one of the diagnosis codes related to opioid overdose/abuse. For example, the day of the week, the region (in Florida) where the facility is locate, and the payer may have some impact. It will be interesting to increase the number of features that are included in both of these ML models to see if it results in something even more useful."
   ]
  },
  {
   "cell_type": "code",
   "execution_count": null,
   "metadata": {},
   "outputs": [],
   "source": [
    "from sklearn.ensemble import RandomForestClassifier\n",
    "\n",
    "clfs_rf = [RandomForestClassifier(n_estimators=10)]\n",
    "for clf in clfs_rf:\n",
    "    clf.fit(X_train, y_train.values.ravel())\n",
    "    print(type(clf))\n",
    "    print('Training accuracy: ' + str(clf.score(X_train, y_train)))\n",
    "    print('Validation accuracy: ' + str(clf.score(X_test, y_test)))\n",
    "    imps = {\n",
    "        'column': [X_train_cols[i] for i in range(len(X_train_cols))],\n",
    "        'imp': [clf.feature_importances_[i] for i in range(len(X_train_cols))]}\n",
    "    df_imps = pd.DataFrame(imps)\n",
    "    print(df_imps.sort_values('imp', axis=0, ascending=False))"
   ]
  },
  {
   "cell_type": "markdown",
   "metadata": {},
   "source": [
    "### Neural Network model  \n",
    "  \n",
    "This model takes quite a bit more time than the others...but we will save it for next time."
   ]
  },
  {
   "cell_type": "code",
   "execution_count": null,
   "metadata": {},
   "outputs": [],
   "source": [
    "from sklearn.preprocessing import StandardScaler\n",
    "from sklearn.neural_network import MLPClassifier\n",
    "\n",
    "# Scale data\n",
    "scaler = StandardScaler()\n",
    "scaler.fit(X_train)\n",
    "X_train_Tx = scaler.transform(X_train)\n",
    "X_test_Tx = scaler.transform(X_test)\n",
    "\n",
    "# Fit models that require scaling (e.g. neural networks)\n",
    "hl_sizes = [150,100,80,60,40,20]\n",
    "nn_clfs = [MLPClassifier(hidden_layer_sizes=(size,), random_state=42, verbose=True) for size in hl_sizes]\n",
    "for num, nn_clf in enumerate(nn_clfs):\n",
    "    print(str(hl_sizes[num]) + '-unit network:')\n",
    "    nn_clf.fit(X_train_Tx, y_train.values.ravel())\n",
    "    print('Training accuracy: ' + str(nn_clf.score(X_train_Tx, y_train)))\n",
    "    print('Validation accuracy: ' + str(nn_clf.score(X_test_Tx, y_test)))\n"
   ]
  },
  {
   "cell_type": "code",
   "execution_count": null,
   "metadata": {},
   "outputs": [],
   "source": []
  }
 ],
 "metadata": {
  "kernelspec": {
   "display_name": "Python 3",
   "language": "python",
   "name": "python3"
  },
  "language_info": {
   "codemirror_mode": {
    "name": "ipython",
    "version": 3
   },
   "file_extension": ".py",
   "mimetype": "text/x-python",
   "name": "python",
   "nbconvert_exporter": "python",
   "pygments_lexer": "ipython3",
   "version": "3.7.3"
  }
 },
 "nbformat": 4,
 "nbformat_minor": 2
}
